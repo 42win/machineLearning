{
 "cells": [
  {
   "cell_type": "code",
   "execution_count": 42,
   "id": "afdee4fe",
   "metadata": {},
   "outputs": [],
   "source": [
    "from sklearn import datasets\n",
    "from sklearn.model_selection import train_test_split\n",
    " \n",
    "iris = datasets.load_iris()\n",
    "atribut = iris.data\n",
    "label = iris.target\n",
    " \n",
    "# bagi dataset menjadi train set dan test set\n",
    "X_train, X_test, y_train, y_test = train_test_split(\n",
    "    atribut, label, test_size=0.2, random_state=1)"
   ]
  },
  {
   "cell_type": "code",
   "execution_count": 43,
   "id": "30491db9",
   "metadata": {},
   "outputs": [
    {
     "data": {
      "text/plain": [
       "0.9666666666666667"
      ]
     },
     "execution_count": 43,
     "metadata": {},
     "output_type": "execute_result"
    }
   ],
   "source": [
    "    from sklearn import tree\n",
    "     \n",
    "    decision_tree = tree.DecisionTreeClassifier()\n",
    "    model_pertama = decision_tree.fit(X_train, y_train)\n",
    "    model_pertama.score(X_test, y_test)"
   ]
  },
  {
   "cell_type": "markdown",
   "id": "202b4a55",
   "metadata": {},
   "source": [
    "Kemudian kita akan menggunakan PCA dan menghitung variance dari setiap atribut. \n",
    "Hasilnya adalah ada 1 atribut memiliki variance sebesar 0.928, yang berarti atribut tersebut menyimpan informasi yang tinggi dan jauh lebih signifikan dari atribut lain. "
   ]
  },
  {
   "cell_type": "code",
   "execution_count": 30,
   "id": "7c3da4d4",
   "metadata": {},
   "outputs": [
    {
     "data": {
      "text/plain": [
       "array([0.92848323, 0.04764372, 0.01931005, 0.004563  ])"
      ]
     },
     "execution_count": 30,
     "metadata": {},
     "output_type": "execute_result"
    }
   ],
   "source": [
    "    from sklearn.decomposition import PCA\n",
    "     \n",
    "    # membuat objek PCA dengan 4 principal component (ada 4 attribut pada data iris)\n",
    "    pca = PCA(n_components=4)\n",
    "     \n",
    "    # mengaplikasikan PCA pada dataset\n",
    "    pca_attributes = pca.fit_transform(X_train)\n",
    "     \n",
    "    # melihat variance dari setiap atribut, default order yg paling tinggi\n",
    "    pca.explained_variance_ratio_"
   ]
  },
  {
   "cell_type": "markdown",
   "id": "4cb1264b",
   "metadata": {},
   "source": [
    "Melihat dari variance sebelumnya kita bisa mengambil 2 principal component terbaik karena total variance nya adalah (0.928+0.047) 0.975 yang sudah cukup tinggi."
   ]
  },
  {
   "cell_type": "code",
   "execution_count": 37,
   "id": "62f9e475",
   "metadata": {},
   "outputs": [],
   "source": [
    "    # PCA dengan 2 principal component\n",
    "    pca = PCA(n_components = 2)\n",
    "    X_train_pca = pca.fit_transform(X_train)\n",
    "    X_test_pca = pca.fit_transform(X_test)"
   ]
  },
  {
   "cell_type": "code",
   "execution_count": 38,
   "id": "f0a4948d",
   "metadata": {},
   "outputs": [
    {
     "data": {
      "text/plain": [
       "0.9333333333333333"
      ]
     },
     "execution_count": 38,
     "metadata": {},
     "output_type": "execute_result"
    }
   ],
   "source": [
    "    # uji akurasi classifier\n",
    "    model2 = decision_tree.fit(X_train_pca, y_train)\n",
    "    model2.score(X_test_pca, y_test)"
   ]
  },
  {
   "cell_type": "markdown",
   "id": "fa7e62df",
   "metadata": {},
   "source": [
    "Dari percobaan di atas bisa kita lihat bahwa dengan hanya 2 principal component atau 2 atribut saja model masih memiliki akurasi yang tinggi. Dengan principal component kamu bisa mengurangi atribut yang kurang signifikan dalam prediksi dan mempercepat waktu pelatihan sebuah model machine learning."
   ]
  },
  {
   "cell_type": "code",
   "execution_count": null,
   "id": "791f8e6f",
   "metadata": {},
   "outputs": [],
   "source": []
  }
 ],
 "metadata": {
  "kernelspec": {
   "display_name": "Python 3 (ipykernel)",
   "language": "python",
   "name": "python3"
  },
  "language_info": {
   "codemirror_mode": {
    "name": "ipython",
    "version": 3
   },
   "file_extension": ".py",
   "mimetype": "text/x-python",
   "name": "python",
   "nbconvert_exporter": "python",
   "pygments_lexer": "ipython3",
   "version": "3.9.7"
  }
 },
 "nbformat": 4,
 "nbformat_minor": 5
}

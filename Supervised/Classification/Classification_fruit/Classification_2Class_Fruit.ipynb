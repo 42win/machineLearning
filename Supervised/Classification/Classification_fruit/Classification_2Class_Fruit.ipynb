{
 "cells": [
  {
   "cell_type": "markdown",
   "id": "7864bc63",
   "metadata": {},
   "source": [
    "# klasifikasi orange or grapefruit"
   ]
  },
  {
   "cell_type": "markdown",
   "id": "08607e28",
   "metadata": {},
   "source": [
    "cause our dataset is csv so we use pandas library to change it to dataframe\n",
    "\n",
    "we use ``read_csv()``"
   ]
  },
  {
   "cell_type": "code",
   "execution_count": 19,
   "id": "656a4e7a",
   "metadata": {},
   "outputs": [],
   "source": [
    "    import pandas as pd\n",
    "    df = pd.read_csv('citrus.csv')"
   ]
  },
  {
   "cell_type": "markdown",
   "id": "c9a6bece",
   "metadata": {},
   "source": [
    "see overview of our dataset"
   ]
  },
  {
   "cell_type": "code",
   "execution_count": 20,
   "id": "f4e4fddf",
   "metadata": {},
   "outputs": [
    {
     "name": "stdout",
     "output_type": "stream",
     "text": [
      "<class 'pandas.core.frame.DataFrame'>\n",
      "RangeIndex: 10000 entries, 0 to 9999\n",
      "Data columns (total 6 columns):\n",
      " #   Column    Non-Null Count  Dtype  \n",
      "---  ------    --------------  -----  \n",
      " 0   name      10000 non-null  object \n",
      " 1   diameter  10000 non-null  float64\n",
      " 2   weight    10000 non-null  float64\n",
      " 3   red       10000 non-null  int64  \n",
      " 4   green     10000 non-null  int64  \n",
      " 5   blue      10000 non-null  int64  \n",
      "dtypes: float64(2), int64(3), object(1)\n",
      "memory usage: 468.9+ KB\n"
     ]
    }
   ],
   "source": [
    "df.info()"
   ]
  },
  {
   "cell_type": "markdown",
   "id": "763a1d5c",
   "metadata": {},
   "source": [
    "use ``head()`` to show our dataframe.\n",
    "\n",
    "in our dataset the label is first column"
   ]
  },
  {
   "cell_type": "code",
   "execution_count": 22,
   "id": "3882b392",
   "metadata": {},
   "outputs": [
    {
     "data": {
      "text/html": [
       "<div>\n",
       "<style scoped>\n",
       "    .dataframe tbody tr th:only-of-type {\n",
       "        vertical-align: middle;\n",
       "    }\n",
       "\n",
       "    .dataframe tbody tr th {\n",
       "        vertical-align: top;\n",
       "    }\n",
       "\n",
       "    .dataframe thead th {\n",
       "        text-align: right;\n",
       "    }\n",
       "</style>\n",
       "<table border=\"1\" class=\"dataframe\">\n",
       "  <thead>\n",
       "    <tr style=\"text-align: right;\">\n",
       "      <th></th>\n",
       "      <th>name</th>\n",
       "      <th>diameter</th>\n",
       "      <th>weight</th>\n",
       "      <th>red</th>\n",
       "      <th>green</th>\n",
       "      <th>blue</th>\n",
       "    </tr>\n",
       "  </thead>\n",
       "  <tbody>\n",
       "    <tr>\n",
       "      <th>0</th>\n",
       "      <td>orange</td>\n",
       "      <td>2.96</td>\n",
       "      <td>86.76</td>\n",
       "      <td>172</td>\n",
       "      <td>85</td>\n",
       "      <td>2</td>\n",
       "    </tr>\n",
       "    <tr>\n",
       "      <th>1</th>\n",
       "      <td>orange</td>\n",
       "      <td>3.91</td>\n",
       "      <td>88.05</td>\n",
       "      <td>166</td>\n",
       "      <td>78</td>\n",
       "      <td>3</td>\n",
       "    </tr>\n",
       "    <tr>\n",
       "      <th>2</th>\n",
       "      <td>orange</td>\n",
       "      <td>4.42</td>\n",
       "      <td>95.17</td>\n",
       "      <td>156</td>\n",
       "      <td>81</td>\n",
       "      <td>2</td>\n",
       "    </tr>\n",
       "    <tr>\n",
       "      <th>3</th>\n",
       "      <td>orange</td>\n",
       "      <td>4.47</td>\n",
       "      <td>95.60</td>\n",
       "      <td>163</td>\n",
       "      <td>81</td>\n",
       "      <td>4</td>\n",
       "    </tr>\n",
       "    <tr>\n",
       "      <th>4</th>\n",
       "      <td>orange</td>\n",
       "      <td>4.48</td>\n",
       "      <td>95.76</td>\n",
       "      <td>161</td>\n",
       "      <td>72</td>\n",
       "      <td>9</td>\n",
       "    </tr>\n",
       "    <tr>\n",
       "      <th>...</th>\n",
       "      <td>...</td>\n",
       "      <td>...</td>\n",
       "      <td>...</td>\n",
       "      <td>...</td>\n",
       "      <td>...</td>\n",
       "      <td>...</td>\n",
       "    </tr>\n",
       "    <tr>\n",
       "      <th>9995</th>\n",
       "      <td>grapefruit</td>\n",
       "      <td>15.35</td>\n",
       "      <td>253.89</td>\n",
       "      <td>149</td>\n",
       "      <td>77</td>\n",
       "      <td>20</td>\n",
       "    </tr>\n",
       "    <tr>\n",
       "      <th>9996</th>\n",
       "      <td>grapefruit</td>\n",
       "      <td>15.41</td>\n",
       "      <td>254.67</td>\n",
       "      <td>148</td>\n",
       "      <td>68</td>\n",
       "      <td>7</td>\n",
       "    </tr>\n",
       "    <tr>\n",
       "      <th>9997</th>\n",
       "      <td>grapefruit</td>\n",
       "      <td>15.59</td>\n",
       "      <td>256.50</td>\n",
       "      <td>168</td>\n",
       "      <td>82</td>\n",
       "      <td>20</td>\n",
       "    </tr>\n",
       "    <tr>\n",
       "      <th>9998</th>\n",
       "      <td>grapefruit</td>\n",
       "      <td>15.92</td>\n",
       "      <td>260.14</td>\n",
       "      <td>142</td>\n",
       "      <td>72</td>\n",
       "      <td>11</td>\n",
       "    </tr>\n",
       "    <tr>\n",
       "      <th>9999</th>\n",
       "      <td>grapefruit</td>\n",
       "      <td>16.45</td>\n",
       "      <td>261.51</td>\n",
       "      <td>152</td>\n",
       "      <td>74</td>\n",
       "      <td>2</td>\n",
       "    </tr>\n",
       "  </tbody>\n",
       "</table>\n",
       "<p>10000 rows × 6 columns</p>\n",
       "</div>"
      ],
      "text/plain": [
       "            name  diameter  weight  red  green  blue\n",
       "0         orange      2.96   86.76  172     85     2\n",
       "1         orange      3.91   88.05  166     78     3\n",
       "2         orange      4.42   95.17  156     81     2\n",
       "3         orange      4.47   95.60  163     81     4\n",
       "4         orange      4.48   95.76  161     72     9\n",
       "...          ...       ...     ...  ...    ...   ...\n",
       "9995  grapefruit     15.35  253.89  149     77    20\n",
       "9996  grapefruit     15.41  254.67  148     68     7\n",
       "9997  grapefruit     15.59  256.50  168     82    20\n",
       "9998  grapefruit     15.92  260.14  142     72    11\n",
       "9999  grapefruit     16.45  261.51  152     74     2\n",
       "\n",
       "[10000 rows x 6 columns]"
      ]
     },
     "execution_count": 22,
     "metadata": {},
     "output_type": "execute_result"
    }
   ],
   "source": [
    "df.head(10000)"
   ]
  },
  {
   "cell_type": "markdown",
   "id": "ba8893b3",
   "metadata": {},
   "source": [
    "**remember, jst cant process string**\n",
    "\n",
    "so we have to change string value to numeric <br>\n",
    "run process below to change it."
   ]
  },
  {
   "cell_type": "code",
   "execution_count": 23,
   "id": "c1057c07",
   "metadata": {},
   "outputs": [
    {
     "name": "stderr",
     "output_type": "stream",
     "text": [
      "C:\\Users\\Azwinck\\AppData\\Local\\Temp\\ipykernel_14592\\2502857679.py:1: SettingWithCopyWarning: \n",
      "A value is trying to be set on a copy of a slice from a DataFrame\n",
      "\n",
      "See the caveats in the documentation: https://pandas.pydata.org/pandas-docs/stable/user_guide/indexing.html#returning-a-view-versus-a-copy\n",
      "  df.name[df.name == 'orange'] = 0\n",
      "C:\\Users\\Azwinck\\AppData\\Local\\Temp\\ipykernel_14592\\2502857679.py:2: SettingWithCopyWarning: \n",
      "A value is trying to be set on a copy of a slice from a DataFrame\n",
      "\n",
      "See the caveats in the documentation: https://pandas.pydata.org/pandas-docs/stable/user_guide/indexing.html#returning-a-view-versus-a-copy\n",
      "  df.name[df.name == 'grapefruit'] = 1\n"
     ]
    }
   ],
   "source": [
    "    df.name[df.name == 'orange'] = 0\n",
    "    df.name[df.name == 'grapefruit'] = 1"
   ]
  },
  {
   "cell_type": "markdown",
   "id": "3cfdfb88",
   "metadata": {},
   "source": [
    "until this step, we cant process this dataset because our dataset still dataframe shape.\n",
    "\n",
    "dataset must be in the form of an array.\n",
    "\n",
    "fortunately, it can do easly using attribute ``values`` of dataframe.<br>\n",
    "values return numpy array yg dikonvert from dataframe"
   ]
  },
  {
   "cell_type": "code",
   "execution_count": 24,
   "id": "bae71f35",
   "metadata": {},
   "outputs": [],
   "source": [
    "    dataset = df.values"
   ]
  },
  {
   "cell_type": "markdown",
   "id": "bb233e62",
   "metadata": {},
   "source": [
    "to see changed dataframe in form of array  "
   ]
  },
  {
   "cell_type": "code",
   "execution_count": 25,
   "id": "5eb38334",
   "metadata": {},
   "outputs": [
    {
     "data": {
      "text/plain": [
       "array([[0, 2.96, 86.76, 172, 85, 2],\n",
       "       [0, 3.91, 88.05, 166, 78, 3],\n",
       "       [0, 4.42, 95.17, 156, 81, 2],\n",
       "       ...,\n",
       "       [1, 15.59, 256.5, 168, 82, 20],\n",
       "       [1, 15.92, 260.14, 142, 72, 11],\n",
       "       [1, 16.45, 261.51, 152, 74, 2]], dtype=object)"
      ]
     },
     "execution_count": 25,
     "metadata": {},
     "output_type": "execute_result"
    }
   ],
   "source": [
    "dataset"
   ]
  },
  {
   "cell_type": "markdown",
   "id": "3625b34c",
   "metadata": {},
   "source": [
    "then we have to seperate between attribute and label in dataset.\n",
    "\n",
    "from data exploration before, we know that last 5 column are attribute column"
   ]
  },
  {
   "cell_type": "code",
   "execution_count": 26,
   "id": "a03d69c0",
   "metadata": {},
   "outputs": [],
   "source": [
    "    # pilih 5 kolom terakhir sebagai atribut\n",
    "    X = dataset[:,1:6]\n",
    "    # bilangan sebelum koma untuk memilih baris pada dataframe\n",
    "    # bilangan setelah koma untuk memilih kolom pada dataframe"
   ]
  },
  {
   "cell_type": "markdown",
   "id": "e3dd5764",
   "metadata": {},
   "source": [
    "dont forget to seperate label from dataset.\n",
    "\n",
    "in dataset, the label in first column"
   ]
  },
  {
   "cell_type": "code",
   "execution_count": 27,
   "id": "b2730d3b",
   "metadata": {},
   "outputs": [],
   "source": [
    "    y = dataset[:,0]"
   ]
  },
  {
   "cell_type": "markdown",
   "id": "da26d0f8",
   "metadata": {},
   "source": [
    "next, there is important step that we must do for jst can learn dataset well. this step is ``normalization``\n",
    "\n",
    "we can use ``fit_transform()`` of objek ``MinMaxScaler`` from libary preprocessing SKLearn to normalize our data"
   ]
  },
  {
   "cell_type": "code",
   "execution_count": 28,
   "id": "9b3ddbf2",
   "metadata": {},
   "outputs": [
    {
     "data": {
      "text/plain": [
       "array([[0.        , 0.        , 0.74025974, 0.63529412, 0.        ],\n",
       "       [0.07042254, 0.00738197, 0.66233766, 0.55294118, 0.01851852],\n",
       "       [0.10822832, 0.04812589, 0.53246753, 0.58823529, 0.        ],\n",
       "       ...,\n",
       "       [0.93624907, 0.97133047, 0.68831169, 0.6       , 0.33333333],\n",
       "       [0.96071164, 0.99216023, 0.35064935, 0.48235294, 0.16666667],\n",
       "       [1.        , 1.        , 0.48051948, 0.50588235, 0.        ]])"
      ]
     },
     "execution_count": 28,
     "metadata": {},
     "output_type": "execute_result"
    }
   ],
   "source": [
    "    # Normalization\n",
    "    from sklearn import preprocessing\n",
    "    min_max_scaler = preprocessing.MinMaxScaler()\n",
    "    X_scale = min_max_scaler.fit_transform(X)\n",
    "    X_scale"
   ]
  },
  {
   "cell_type": "markdown",
   "id": "090a732a",
   "metadata": {},
   "source": [
    "after we have attribute and label seperately, we also will seperate again our data become data training and data testing to evaluate our model.\n",
    "\n",
    "``train_test_split`` function can help us to do it easly.\n",
    "in this step, we use 30% of entire data as data testing."
   ]
  },
  {
   "cell_type": "code",
   "execution_count": 29,
   "id": "2638f765",
   "metadata": {},
   "outputs": [],
   "source": [
    "    # pisahkan data training dan testing\n",
    "    from sklearn.model_selection import train_test_split\n",
    "    X_train, X_test, Y_train, Y_test = train_test_split(X_scale, y, test_size=0.3)"
   ]
  },
  {
   "cell_type": "markdown",
   "id": "9c0b4c1b",
   "metadata": {},
   "source": [
    "cause we changed values of column name to numeric in fourth step, it means we changed label *from string to boolen type*, then we have to change it to *float32*"
   ]
  },
  {
   "cell_type": "code",
   "execution_count": 30,
   "id": "ee6ab049",
   "metadata": {},
   "outputs": [
    {
     "data": {
      "text/plain": [
       "array([0, 0, 1, ..., 1, 0, 0], dtype=object)"
      ]
     },
     "execution_count": 30,
     "metadata": {},
     "output_type": "execute_result"
    }
   ],
   "source": [
    "Y_test"
   ]
  },
  {
   "cell_type": "code",
   "execution_count": 31,
   "id": "6be3c7b8",
   "metadata": {},
   "outputs": [],
   "source": [
    "    import numpy as np\n",
    "     \n",
    "    Y_train = Y_train.astype(np.float32)\n",
    "    Y_test = Y_test.astype(np.float32)"
   ]
  },
  {
   "cell_type": "code",
   "execution_count": 32,
   "id": "6da5c4d7",
   "metadata": {},
   "outputs": [
    {
     "data": {
      "text/plain": [
       "array([0., 0., 1., ..., 1., 0., 0.], dtype=float32)"
      ]
     },
     "execution_count": 32,
     "metadata": {},
     "output_type": "execute_result"
    }
   ],
   "source": [
    "Y_test"
   ]
  },
  {
   "cell_type": "markdown",
   "id": "993b64d7",
   "metadata": {},
   "source": [
    "finally, processing data steps already done. Now, we start build our jst model.\n",
    "\n",
    "import library below"
   ]
  },
  {
   "cell_type": "code",
   "execution_count": 12,
   "id": "9de01161",
   "metadata": {},
   "outputs": [],
   "source": [
    "    from keras.models import Sequential\n",
    "    from keras.layers import Dense"
   ]
  },
  {
   "cell_type": "markdown",
   "id": "cd9fb35a",
   "metadata": {},
   "source": [
    "**make model architect**\n",
    "\n",
    "we will develop model sequential which have 3 layers.\n",
    "\n",
    "activation function in firt 2 layer is ``relu`` but you can explore to use anothers activation function.\n",
    "\n",
    "for last layer, the paremater values is 1 where output of our jst is 1 buah bilangan numerik. Activation function that we use is ``sigmoid`` because it memetakan probabilitas of 0 to 1. it very suitable for biner clasification problem"
   ]
  },
  {
   "cell_type": "code",
   "execution_count": 13,
   "id": "4d2ddcd0",
   "metadata": {},
   "outputs": [],
   "source": [
    "    model = Sequential([    \n",
    "                        Dense(32, activation='relu', input_shape=(5,)),    \n",
    "                        Dense(32, activation='relu'),    \n",
    "                        Dense(1, activation='sigmoid'),])"
   ]
  },
  {
   "cell_type": "markdown",
   "id": "cdaea151",
   "metadata": {},
   "source": [
    "after build model architect, we have to determine optimizer and loss function to our model.\n",
    "\n",
    "for optimizer we use ``sgd`` (stochastic gradient descent). it is general optimizer and suitable for dataset which have small dataset.\n",
    "\n",
    "for loss function we use ``binary_crossentropy`` because problem in this case is masalah 2 kelas (biner)\n",
    "\n",
    "besides that, we have to show accuration in each step training model process by add ``metrics`` parameter and fill it with string 'accuracy' "
   ]
  },
  {
   "cell_type": "code",
   "execution_count": 14,
   "id": "fe5ccfba",
   "metadata": {},
   "outputs": [],
   "source": [
    "    model.compile(optimizer='sgd',\n",
    "                  loss='binary_crossentropy',\n",
    "                  metrics=['accuracy'])"
   ]
  },
  {
   "cell_type": "markdown",
   "id": "5efd6596",
   "metadata": {},
   "source": [
    "after we already done, we can start training model by run code below"
   ]
  },
  {
   "cell_type": "code",
   "execution_count": 15,
   "id": "c05a10db",
   "metadata": {},
   "outputs": [
    {
     "name": "stdout",
     "output_type": "stream",
     "text": [
      "Epoch 1/100\n",
      "219/219 [==============================] - 6s 8ms/step - loss: 0.6726 - accuracy: 0.7096\n",
      "Epoch 2/100\n",
      "219/219 [==============================] - 1s 7ms/step - loss: 0.6357 - accuracy: 0.8633\n",
      "Epoch 3/100\n",
      "219/219 [==============================] - 1s 7ms/step - loss: 0.5859 - accuracy: 0.8961\n",
      "Epoch 4/100\n",
      "219/219 [==============================] - 1s 7ms/step - loss: 0.5091 - accuracy: 0.9137\n",
      "Epoch 5/100\n",
      "219/219 [==============================] - 1s 7ms/step - loss: 0.4166 - accuracy: 0.9223\n",
      "Epoch 6/100\n",
      "219/219 [==============================] - 2s 7ms/step - loss: 0.3334 - accuracy: 0.9241\n",
      "Epoch 7/100\n",
      "219/219 [==============================] - 1s 6ms/step - loss: 0.2749 - accuracy: 0.9247\n",
      "Epoch 8/100\n",
      "219/219 [==============================] - 1s 6ms/step - loss: 0.2388 - accuracy: 0.9251\n",
      "Epoch 9/100\n",
      "219/219 [==============================] - 1s 7ms/step - loss: 0.2177 - accuracy: 0.9259\n",
      "Epoch 10/100\n",
      "219/219 [==============================] - 1s 7ms/step - loss: 0.2042 - accuracy: 0.9260\n",
      "Epoch 11/100\n",
      "219/219 [==============================] - 1s 7ms/step - loss: 0.1960 - accuracy: 0.9269\n",
      "Epoch 12/100\n",
      "219/219 [==============================] - 1s 7ms/step - loss: 0.1908 - accuracy: 0.9260\n",
      "Epoch 13/100\n",
      "219/219 [==============================] - 1s 7ms/step - loss: 0.1869 - accuracy: 0.9271\n",
      "Epoch 14/100\n",
      "219/219 [==============================] - 1s 7ms/step - loss: 0.1848 - accuracy: 0.9256\n",
      "Epoch 15/100\n",
      "219/219 [==============================] - 1s 7ms/step - loss: 0.1830 - accuracy: 0.9277\n",
      "Epoch 16/100\n",
      "219/219 [==============================] - 1s 7ms/step - loss: 0.1819 - accuracy: 0.9266\n",
      "Epoch 17/100\n",
      "219/219 [==============================] - 1s 7ms/step - loss: 0.1808 - accuracy: 0.9263\n",
      "Epoch 18/100\n",
      "219/219 [==============================] - 1s 7ms/step - loss: 0.1806 - accuracy: 0.9260\n",
      "Epoch 19/100\n",
      "219/219 [==============================] - 1s 7ms/step - loss: 0.1798 - accuracy: 0.9263\n",
      "Epoch 20/100\n",
      "219/219 [==============================] - 2s 7ms/step - loss: 0.1795 - accuracy: 0.9267\n",
      "Epoch 21/100\n",
      "219/219 [==============================] - 1s 7ms/step - loss: 0.1789 - accuracy: 0.9276\n",
      "Epoch 22/100\n",
      "219/219 [==============================] - 1s 7ms/step - loss: 0.1793 - accuracy: 0.9264\n",
      "Epoch 23/100\n",
      "219/219 [==============================] - 1s 7ms/step - loss: 0.1793 - accuracy: 0.9269\n",
      "Epoch 24/100\n",
      "219/219 [==============================] - 1s 7ms/step - loss: 0.1788 - accuracy: 0.9261\n",
      "Epoch 25/100\n",
      "219/219 [==============================] - 2s 7ms/step - loss: 0.1790 - accuracy: 0.9267\n",
      "Epoch 26/100\n",
      "219/219 [==============================] - 1s 7ms/step - loss: 0.1790 - accuracy: 0.9259\n",
      "Epoch 27/100\n",
      "219/219 [==============================] - 1s 7ms/step - loss: 0.1789 - accuracy: 0.9261\n",
      "Epoch 28/100\n",
      "219/219 [==============================] - 1s 7ms/step - loss: 0.1788 - accuracy: 0.9263\n",
      "Epoch 29/100\n",
      "219/219 [==============================] - 1s 7ms/step - loss: 0.1782 - accuracy: 0.9269\n",
      "Epoch 30/100\n",
      "219/219 [==============================] - 1s 7ms/step - loss: 0.1785 - accuracy: 0.9280\n",
      "Epoch 31/100\n",
      "219/219 [==============================] - 1s 7ms/step - loss: 0.1784 - accuracy: 0.9257\n",
      "Epoch 32/100\n",
      "219/219 [==============================] - 1s 6ms/step - loss: 0.1786 - accuracy: 0.9257\n",
      "Epoch 33/100\n",
      "219/219 [==============================] - 1s 7ms/step - loss: 0.1779 - accuracy: 0.9267\n",
      "Epoch 34/100\n",
      "219/219 [==============================] - 1s 7ms/step - loss: 0.1783 - accuracy: 0.9263\n",
      "Epoch 35/100\n",
      "219/219 [==============================] - 1s 7ms/step - loss: 0.1781 - accuracy: 0.9273\n",
      "Epoch 36/100\n",
      "219/219 [==============================] - 1s 7ms/step - loss: 0.1784 - accuracy: 0.9263\n",
      "Epoch 37/100\n",
      "219/219 [==============================] - 1s 6ms/step - loss: 0.1784 - accuracy: 0.9260\n",
      "Epoch 38/100\n",
      "219/219 [==============================] - 1s 7ms/step - loss: 0.1781 - accuracy: 0.9270\n",
      "Epoch 39/100\n",
      "219/219 [==============================] - 1s 7ms/step - loss: 0.1778 - accuracy: 0.9267\n",
      "Epoch 40/100\n",
      "219/219 [==============================] - 1s 7ms/step - loss: 0.1780 - accuracy: 0.9266\n",
      "Epoch 41/100\n",
      "219/219 [==============================] - 1s 7ms/step - loss: 0.1781 - accuracy: 0.9264\n",
      "Epoch 42/100\n",
      "219/219 [==============================] - 1s 7ms/step - loss: 0.1779 - accuracy: 0.9266\n",
      "Epoch 43/100\n",
      "219/219 [==============================] - 1s 6ms/step - loss: 0.1782 - accuracy: 0.9269\n",
      "Epoch 44/100\n",
      "219/219 [==============================] - 1s 7ms/step - loss: 0.1778 - accuracy: 0.9271\n",
      "Epoch 45/100\n",
      "219/219 [==============================] - 1s 7ms/step - loss: 0.1779 - accuracy: 0.9257\n",
      "Epoch 46/100\n",
      "219/219 [==============================] - 1s 7ms/step - loss: 0.1783 - accuracy: 0.9254\n",
      "Epoch 47/100\n",
      "219/219 [==============================] - 1s 7ms/step - loss: 0.1780 - accuracy: 0.9254\n",
      "Epoch 48/100\n",
      "219/219 [==============================] - 1s 7ms/step - loss: 0.1782 - accuracy: 0.9263\n",
      "Epoch 49/100\n",
      "219/219 [==============================] - 1s 6ms/step - loss: 0.1777 - accuracy: 0.9270\n",
      "Epoch 50/100\n",
      "219/219 [==============================] - 1s 7ms/step - loss: 0.1778 - accuracy: 0.9267: \n",
      "Epoch 51/100\n",
      "219/219 [==============================] - 1s 7ms/step - loss: 0.1782 - accuracy: 0.9260\n",
      "Epoch 52/100\n",
      "219/219 [==============================] - 1s 7ms/step - loss: 0.1779 - accuracy: 0.9264\n",
      "Epoch 53/100\n",
      "219/219 [==============================] - 1s 6ms/step - loss: 0.1776 - accuracy: 0.9270\n",
      "Epoch 54/100\n",
      "219/219 [==============================] - 1s 7ms/step - loss: 0.1782 - accuracy: 0.9256\n",
      "Epoch 55/100\n",
      "219/219 [==============================] - 2s 7ms/step - loss: 0.1780 - accuracy: 0.9259\n",
      "Epoch 56/100\n",
      "219/219 [==============================] - 2s 7ms/step - loss: 0.1779 - accuracy: 0.9257\n",
      "Epoch 57/100\n",
      "219/219 [==============================] - 2s 7ms/step - loss: 0.1774 - accuracy: 0.9269\n",
      "Epoch 58/100\n",
      "219/219 [==============================] - 1s 7ms/step - loss: 0.1779 - accuracy: 0.9274\n",
      "Epoch 59/100\n",
      "219/219 [==============================] - 1s 7ms/step - loss: 0.1777 - accuracy: 0.9250\n",
      "Epoch 60/100\n",
      "219/219 [==============================] - 1s 7ms/step - loss: 0.1774 - accuracy: 0.9260\n",
      "Epoch 61/100\n",
      "219/219 [==============================] - 1s 6ms/step - loss: 0.1779 - accuracy: 0.9253\n",
      "Epoch 62/100\n",
      "219/219 [==============================] - 1s 7ms/step - loss: 0.1778 - accuracy: 0.9256\n",
      "Epoch 63/100\n",
      "219/219 [==============================] - 1s 7ms/step - loss: 0.1776 - accuracy: 0.9277\n",
      "Epoch 64/100\n",
      "219/219 [==============================] - 1s 6ms/step - loss: 0.1776 - accuracy: 0.9256\n",
      "Epoch 65/100\n",
      "219/219 [==============================] - 1s 6ms/step - loss: 0.1777 - accuracy: 0.9271\n",
      "Epoch 66/100\n",
      "219/219 [==============================] - 1s 7ms/step - loss: 0.1776 - accuracy: 0.9256\n",
      "Epoch 67/100\n",
      "219/219 [==============================] - 1s 6ms/step - loss: 0.1776 - accuracy: 0.9269\n",
      "Epoch 68/100\n",
      "219/219 [==============================] - 1s 7ms/step - loss: 0.1778 - accuracy: 0.9273\n",
      "Epoch 69/100\n",
      "219/219 [==============================] - 1s 7ms/step - loss: 0.1776 - accuracy: 0.9273\n",
      "Epoch 70/100\n",
      "219/219 [==============================] - 1s 7ms/step - loss: 0.1775 - accuracy: 0.9254\n",
      "Epoch 71/100\n",
      "219/219 [==============================] - 1s 7ms/step - loss: 0.1774 - accuracy: 0.9271\n",
      "Epoch 72/100\n",
      "219/219 [==============================] - 1s 6ms/step - loss: 0.1773 - accuracy: 0.9271\n",
      "Epoch 73/100\n",
      "219/219 [==============================] - 1s 6ms/step - loss: 0.1775 - accuracy: 0.9277\n",
      "Epoch 74/100\n",
      "219/219 [==============================] - 1s 6ms/step - loss: 0.1775 - accuracy: 0.9263\n",
      "Epoch 75/100\n",
      "219/219 [==============================] - 1s 6ms/step - loss: 0.1775 - accuracy: 0.9271\n",
      "Epoch 76/100\n",
      "219/219 [==============================] - 1s 7ms/step - loss: 0.1772 - accuracy: 0.9277\n",
      "Epoch 77/100\n",
      "219/219 [==============================] - 1s 7ms/step - loss: 0.1777 - accuracy: 0.9260\n",
      "Epoch 78/100\n",
      "219/219 [==============================] - 1s 6ms/step - loss: 0.1773 - accuracy: 0.9267\n",
      "Epoch 79/100\n",
      "219/219 [==============================] - 1s 7ms/step - loss: 0.1775 - accuracy: 0.9261\n",
      "Epoch 80/100\n",
      "219/219 [==============================] - 1s 7ms/step - loss: 0.1771 - accuracy: 0.9269\n",
      "Epoch 81/100\n",
      "219/219 [==============================] - 1s 6ms/step - loss: 0.1774 - accuracy: 0.9270\n",
      "Epoch 82/100\n",
      "219/219 [==============================] - 1s 6ms/step - loss: 0.1769 - accuracy: 0.9260\n",
      "Epoch 83/100\n",
      "219/219 [==============================] - 1s 7ms/step - loss: 0.1773 - accuracy: 0.9267\n",
      "Epoch 84/100\n",
      "219/219 [==============================] - 1s 6ms/step - loss: 0.1777 - accuracy: 0.9261\n",
      "Epoch 85/100\n",
      "219/219 [==============================] - 1s 7ms/step - loss: 0.1770 - accuracy: 0.9264\n",
      "Epoch 86/100\n",
      "219/219 [==============================] - 1s 7ms/step - loss: 0.1769 - accuracy: 0.9257\n",
      "Epoch 87/100\n",
      "219/219 [==============================] - 1s 7ms/step - loss: 0.1768 - accuracy: 0.9290\n",
      "Epoch 88/100\n",
      "219/219 [==============================] - 1s 7ms/step - loss: 0.1772 - accuracy: 0.9261\n",
      "Epoch 89/100\n",
      "219/219 [==============================] - 1s 6ms/step - loss: 0.1770 - accuracy: 0.9277\n",
      "Epoch 90/100\n",
      "219/219 [==============================] - 1s 7ms/step - loss: 0.1771 - accuracy: 0.9277: 0s - loss: 0.1735 \n",
      "Epoch 91/100\n",
      "219/219 [==============================] - 2s 7ms/step - loss: 0.1772 - accuracy: 0.9267\n",
      "Epoch 92/100\n",
      "219/219 [==============================] - 1s 7ms/step - loss: 0.1767 - accuracy: 0.9279\n",
      "Epoch 93/100\n",
      "219/219 [==============================] - 1s 7ms/step - loss: 0.1775 - accuracy: 0.9271\n",
      "Epoch 94/100\n",
      "219/219 [==============================] - 1s 7ms/step - loss: 0.1770 - accuracy: 0.9273\n",
      "Epoch 95/100\n",
      "219/219 [==============================] - 1s 7ms/step - loss: 0.1770 - accuracy: 0.9274\n",
      "Epoch 96/100\n",
      "219/219 [==============================] - 1s 7ms/step - loss: 0.1769 - accuracy: 0.9269\n",
      "Epoch 97/100\n",
      "219/219 [==============================] - 1s 7ms/step - loss: 0.1770 - accuracy: 0.9263\n",
      "Epoch 98/100\n",
      "219/219 [==============================] - 1s 7ms/step - loss: 0.1774 - accuracy: 0.9260\n",
      "Epoch 99/100\n",
      "219/219 [==============================] - 2s 8ms/step - loss: 0.1769 - accuracy: 0.9277\n",
      "Epoch 100/100\n",
      "219/219 [==============================] - 2s 9ms/step - loss: 0.1771 - accuracy: 0.9267: 0s - loss: 0.1\n"
     ]
    },
    {
     "data": {
      "text/plain": [
       "<tensorflow.python.keras.callbacks.History at 0x23633569880>"
      ]
     },
     "execution_count": 15,
     "metadata": {},
     "output_type": "execute_result"
    }
   ],
   "source": [
    "    model.fit(X_train, Y_train, epochs=100)"
   ]
  },
  {
   "cell_type": "markdown",
   "id": "e83d8ab4",
   "metadata": {},
   "source": [
    "the last, we evaluate out model then see if model underfit or overfit.\n",
    "\n",
    "evaluate function return 2 values. 1. loss value and accuracy"
   ]
  },
  {
   "cell_type": "code",
   "execution_count": 16,
   "id": "96c04ae8",
   "metadata": {},
   "outputs": [
    {
     "name": "stdout",
     "output_type": "stream",
     "text": [
      "94/94 [==============================] - 1s 5ms/step - loss: 0.1771 - accuracy: 0.9310\n"
     ]
    },
    {
     "data": {
      "text/plain": [
       "[0.17711390554904938, 0.9309999942779541]"
      ]
     },
     "execution_count": 16,
     "metadata": {},
     "output_type": "execute_result"
    }
   ],
   "source": [
    "    model.evaluate(X_test, Y_test)\n",
    "    # elemen pertama adalah loss dan elemen kedua adalah akurasi"
   ]
  },
  {
   "cell_type": "markdown",
   "id": "023a4ea8",
   "metadata": {},
   "source": [
    "### Test Prediction"
   ]
  },
  {
   "cell_type": "code",
   "execution_count": 37,
   "id": "5c0bac93",
   "metadata": {},
   "outputs": [
    {
     "data": {
      "text/html": [
       "<div>\n",
       "<style scoped>\n",
       "    .dataframe tbody tr th:only-of-type {\n",
       "        vertical-align: middle;\n",
       "    }\n",
       "\n",
       "    .dataframe tbody tr th {\n",
       "        vertical-align: top;\n",
       "    }\n",
       "\n",
       "    .dataframe thead th {\n",
       "        text-align: right;\n",
       "    }\n",
       "</style>\n",
       "<table border=\"1\" class=\"dataframe\">\n",
       "  <thead>\n",
       "    <tr style=\"text-align: right;\">\n",
       "      <th></th>\n",
       "      <th>name</th>\n",
       "      <th>diameter</th>\n",
       "      <th>weight</th>\n",
       "      <th>red</th>\n",
       "      <th>green</th>\n",
       "      <th>blue</th>\n",
       "    </tr>\n",
       "  </thead>\n",
       "  <tbody>\n",
       "    <tr>\n",
       "      <th>4</th>\n",
       "      <td>0</td>\n",
       "      <td>4.48</td>\n",
       "      <td>95.76</td>\n",
       "      <td>161</td>\n",
       "      <td>72</td>\n",
       "      <td>9</td>\n",
       "    </tr>\n",
       "  </tbody>\n",
       "</table>\n",
       "</div>"
      ],
      "text/plain": [
       "  name  diameter  weight  red  green  blue\n",
       "4    0      4.48   95.76  161     72     9"
      ]
     },
     "execution_count": 37,
     "metadata": {},
     "output_type": "execute_result"
    }
   ],
   "source": [
    "df[4:5]"
   ]
  },
  {
   "cell_type": "code",
   "execution_count": 38,
   "id": "a658cbe8",
   "metadata": {},
   "outputs": [
    {
     "data": {
      "text/html": [
       "<div>\n",
       "<style scoped>\n",
       "    .dataframe tbody tr th:only-of-type {\n",
       "        vertical-align: middle;\n",
       "    }\n",
       "\n",
       "    .dataframe tbody tr th {\n",
       "        vertical-align: top;\n",
       "    }\n",
       "\n",
       "    .dataframe thead th {\n",
       "        text-align: right;\n",
       "    }\n",
       "</style>\n",
       "<table border=\"1\" class=\"dataframe\">\n",
       "  <thead>\n",
       "    <tr style=\"text-align: right;\">\n",
       "      <th></th>\n",
       "      <th>name</th>\n",
       "      <th>diameter</th>\n",
       "      <th>weight</th>\n",
       "      <th>red</th>\n",
       "      <th>green</th>\n",
       "      <th>blue</th>\n",
       "    </tr>\n",
       "  </thead>\n",
       "  <tbody>\n",
       "    <tr>\n",
       "      <th>9995</th>\n",
       "      <td>1</td>\n",
       "      <td>15.35</td>\n",
       "      <td>253.89</td>\n",
       "      <td>149</td>\n",
       "      <td>77</td>\n",
       "      <td>20</td>\n",
       "    </tr>\n",
       "  </tbody>\n",
       "</table>\n",
       "</div>"
      ],
      "text/plain": [
       "     name  diameter  weight  red  green  blue\n",
       "9995    1     15.35  253.89  149     77    20"
      ]
     },
     "execution_count": 38,
     "metadata": {},
     "output_type": "execute_result"
    }
   ],
   "source": [
    "df[9995:9996]"
   ]
  },
  {
   "cell_type": "code",
   "execution_count": 39,
   "id": "03c1d0b5",
   "metadata": {},
   "outputs": [],
   "source": [
    "t1 = [[ 15.35,253.89,149,77,20]] #anggur[1]\n",
    "t0 = [[ 4.48,95.76,161,72,9]]    #orange[0]"
   ]
  },
  {
   "cell_type": "code",
   "execution_count": 40,
   "id": "9de4dee9",
   "metadata": {},
   "outputs": [
    {
     "name": "stdout",
     "output_type": "stream",
     "text": [
      "[[1.]]\n"
     ]
    }
   ],
   "source": [
    "print(model.predict(t1))"
   ]
  },
  {
   "cell_type": "code",
   "execution_count": 41,
   "id": "3700494f",
   "metadata": {},
   "outputs": [
    {
     "name": "stdout",
     "output_type": "stream",
     "text": [
      "[[0.]]\n"
     ]
    }
   ],
   "source": [
    "print(model.predict(t0))"
   ]
  }
 ],
 "metadata": {
  "kernelspec": {
   "display_name": "Python 3 (ipykernel)",
   "language": "python",
   "name": "python3"
  },
  "language_info": {
   "codemirror_mode": {
    "name": "ipython",
    "version": 3
   },
   "file_extension": ".py",
   "mimetype": "text/x-python",
   "name": "python",
   "nbconvert_exporter": "python",
   "pygments_lexer": "ipython3",
   "version": "3.9.7"
  }
 },
 "nbformat": 4,
 "nbformat_minor": 5
}

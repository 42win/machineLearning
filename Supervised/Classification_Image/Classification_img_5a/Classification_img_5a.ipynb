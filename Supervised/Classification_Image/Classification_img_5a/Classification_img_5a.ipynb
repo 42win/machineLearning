{
  "nbformat": 4,
  "nbformat_minor": 0,
  "metadata": {
    "colab": {
      "name": "Classification_img_5a.ipynb",
      "provenance": [],
      "collapsed_sections": []
    },
    "kernelspec": {
      "name": "python3",
      "display_name": "Python 3"
    },
    "language_info": {
      "name": "python"
    }
  },
  "cells": [
    {
      "cell_type": "markdown",
      "source": [
        "# Chess classification\n",
        "\n",
        "- using CNN architecture\n",
        "- challenges : image dataset doesnt have format and ukuran yang seragam\n",
        "- we use ImageDataGenerator to solve it\n",
        "\n",
        "- we use transfer learning to increase accuration"
      ],
      "metadata": {
        "id": "jkZLj4H3dTHr"
      }
    },
    {
      "cell_type": "markdown",
      "source": [
        "1. Download and import datasets"
      ],
      "metadata": {
        "id": "xvNDEYbedklm"
      }
    },
    {
      "cell_type": "code",
      "execution_count": null,
      "metadata": {
        "colab": {
          "base_uri": "https://localhost:8080/"
        },
        "id": "OIj64_tLpbcP",
        "outputId": "9ada26d2-a1fe-4ad3-a645-25ce131db673"
      },
      "outputs": [
        {
          "output_type": "stream",
          "name": "stdout",
          "text": [
            "--2022-04-04 04:06:56--  https://github.com/dicodingacademy/assets/raw/main/ml_pengembangan_academy/Chessman-image-dataset.zip\n",
            "Resolving github.com (github.com)... 140.82.114.4\n",
            "Connecting to github.com (github.com)|140.82.114.4|:443... connected.\n",
            "HTTP request sent, awaiting response... 302 Found\n",
            "Location: https://raw.githubusercontent.com/dicodingacademy/assets/main/ml_pengembangan_academy/Chessman-image-dataset.zip [following]\n",
            "--2022-04-04 04:06:56--  https://raw.githubusercontent.com/dicodingacademy/assets/main/ml_pengembangan_academy/Chessman-image-dataset.zip\n",
            "Resolving raw.githubusercontent.com (raw.githubusercontent.com)... 185.199.111.133, 185.199.109.133, 185.199.108.133, ...\n",
            "Connecting to raw.githubusercontent.com (raw.githubusercontent.com)|185.199.111.133|:443... connected.\n",
            "HTTP request sent, awaiting response... 200 OK\n",
            "Length: 60684125 (58M) [application/zip]\n",
            "Saving to: ‘/tmp/Chessman-image-dataset.zip’\n",
            "\n",
            "/tmp/Chessman-image 100%[===================>]  57.87M   194MB/s    in 0.3s    \n",
            "\n",
            "2022-04-04 04:06:57 (194 MB/s) - ‘/tmp/Chessman-image-dataset.zip’ saved [60684125/60684125]\n",
            "\n"
          ]
        }
      ],
      "source": [
        "    !wget --no-check-certificate \\\n",
        "      https://github.com/dicodingacademy/assets/raw/main/ml_pengembangan_academy/Chessman-image-dataset.zip \\\n",
        "      -O /tmp/Chessman-image-dataset.zip"
      ]
    },
    {
      "cell_type": "markdown",
      "source": [
        "2. extraxt zip file to directory /tmp"
      ],
      "metadata": {
        "id": "hvZmFl37dswH"
      }
    },
    {
      "cell_type": "code",
      "source": [
        "    import os\n",
        "    import zipfile\n",
        "\n",
        "    local_zip = '/tmp/Chessman-image-dataset.zip'\n",
        "    zip_ref = zipfile.ZipFile(local_zip, 'r')\n",
        "    zip_ref.extractall('/tmp')\n",
        "    zip_ref.close()"
      ],
      "metadata": {
        "id": "Mg1NviBcdqrS"
      },
      "execution_count": null,
      "outputs": []
    },
    {
      "cell_type": "code",
      "source": [
        "    os.listdir('/tmp/Chessman-image-dataset/Chess')"
      ],
      "metadata": {
        "colab": {
          "base_uri": "https://localhost:8080/"
        },
        "id": "SkAVRuyYd2WV",
        "outputId": "24f43184-d8c4-4c44-d578-51a29d828401"
      },
      "execution_count": 77,
      "outputs": [
        {
          "output_type": "execute_result",
          "data": {
            "text/plain": [
              "['Knight', 'Bishop', 'Pawn', 'Queen', 'King', 'Rook']"
            ]
          },
          "metadata": {},
          "execution_count": 77
        }
      ]
    },
    {
      "cell_type": "code",
      "source": [
        "    print('total pawn images :', len(os.listdir('/tmp/Chessman-image-dataset/Chess/Pawn')))\n",
        "    print('total King images :', len(os.listdir('/tmp/Chessman-image-dataset/Chess/King')))\n",
        "    print('total Knight images :', len(os.listdir('/tmp/Chessman-image-dataset/Chess/Knight')))\n",
        "\n",
        "    print('total Bishop images :', len(os.listdir('/tmp/Chessman-image-dataset/Chess/Bishop')))\n",
        "    print('total Rook images :', len(os.listdir('/tmp/Chessman-image-dataset/Chess/Rook')))\n",
        "    print('total Queen images :', len(os.listdir('/tmp/Chessman-image-dataset/Chess/Queen')))"
      ],
      "metadata": {
        "colab": {
          "base_uri": "https://localhost:8080/"
        },
        "id": "3CS7MFaCd7Wx",
        "outputId": "8738454d-d27e-4e34-d536-7debcc24fb27"
      },
      "execution_count": 78,
      "outputs": [
        {
          "output_type": "stream",
          "name": "stdout",
          "text": [
            "total pawn images : 107\n",
            "total King images : 76\n",
            "total Knight images : 106\n",
            "total Bishop images : 87\n",
            "total Rook images : 102\n",
            "total Queen images : 78\n"
          ]
        }
      ]
    },
    {
      "cell_type": "markdown",
      "source": [
        "-  Dari output dapat dilihat bahwa jumlah sampel pada tiap direktori berbeda. Perlu diperhatikan juga dataset ini berukuran sangat kecil sehingga performa dari model mungkin tidak akan terlalu baik. Kita akan mencoba menggunakan augmentasi gambar untuk mengatasi masalah ini."
      ],
      "metadata": {
        "id": "m_bmRBf5d-Za"
      }
    },
    {
      "cell_type": "markdown",
      "source": [
        "4. Next, we apply image augmentation to our datasets"
      ],
      "metadata": {
        "id": "JeJoCf-beetr"
      }
    },
    {
      "cell_type": "code",
      "source": [
        "    from tensorflow.keras.preprocessing.image import ImageDataGenerator\n",
        "    \n",
        "    train_dir = os.path.join('/tmp/Chessman-image-dataset/Chess')\n",
        "    train_datagen = ImageDataGenerator(rescale=1./255,\n",
        "        rotation_range=20,\n",
        "        zoom_range=0.2,\n",
        "        shear_range=0.2,\n",
        "        fill_mode = 'nearest',\n",
        "        validation_split=0.1) # set validation split"
      ],
      "metadata": {
        "id": "8-Fy_335qD_u"
      },
      "execution_count": null,
      "outputs": []
    },
    {
      "cell_type": "markdown",
      "source": [
        "- our dataset only consist of 1 directory and doesnt split into directory training & testing.\n",
        "- but calm down, with ``ImageDataGenerator`` we doesnt need susah payah to split directory manually. cukup dengan ``validation_split``.\n",
        "- we only tell dataTraining and dataTesting by add ``subset`` parameter with values ``training`` and ``validation``"
      ],
      "metadata": {
        "id": "y3MbX8STehm1"
      }
    },
    {
      "cell_type": "markdown",
      "source": [
        "5. split to data training and testing"
      ],
      "metadata": {
        "id": "Z2GI98x20XV_"
      }
    },
    {
      "cell_type": "code",
      "source": [
        "    train_generator = train_datagen.flow_from_directory(\n",
        "        train_dir,\n",
        "        target_size=(150, 150),\n",
        "        batch_size=8,\n",
        "        class_mode='categorical',\n",
        "        subset='training') # set as training data\n",
        "    validation_generator = train_datagen.flow_from_directory(\n",
        "        train_dir, # same directory as training data\n",
        "        target_size=(150, 150),\n",
        "        batch_size=16,\n",
        "        class_mode='categorical',\n",
        "        subset='validation')"
      ],
      "metadata": {
        "colab": {
          "base_uri": "https://localhost:8080/"
        },
        "id": "79Ko7OwbqGb2",
        "outputId": "8979aa59-b4b8-415b-f0ec-dc13fa2c4c0b"
      },
      "execution_count": 31,
      "outputs": [
        {
          "output_type": "stream",
          "name": "stdout",
          "text": [
            "Found 499 images belonging to 6 classes.\n",
            "Found 52 images belonging to 6 classes.\n"
          ]
        }
      ]
    },
    {
      "cell_type": "markdown",
      "source": [
        "6. make model + implement transfer learning\n",
        "\n",
        "- Nah, disini kita mulai mengimplementasikan transfer learning. Untuk model yang kita pilih sebagai model dasar transfer learning adalah ResNet152V2. \n",
        "\n",
        "- Model ResNet152V2 memiliki sebanyak 152 layer dan tersedia di library keras. Kita dapat memanfaatkan fitur-fitur yang telah dipelajari oleh model tersebut untuk dipakai model kita. \n",
        "\n",
        "- Untuk mengimplementasikan transfer learning sangatlah mudah seperti kode di bawah. Kita hanya perlu menambahkan 2 buah baris kode berbeda. Layer pertama pada model kita adalah model yang kita pakai untuk transfer learning. Kita cukup memanggil kelas ResNet152V2 dan mengisi parameter sebagai berikut:\n",
        "\n",
        "  - Weight : ini adalah bobot atau parameter seperti yang telah dibahas pada kelas machine learning pemula. Untuk parameter weight kita mengisi nilai ‘imagenet’. Artinya kita ingin menggunakan model ResNet152V2 yang telah dilatih pada dataset imagenet. Imagenet adalah sebuah database raksasa yang berisi lebih dari 14 juta gambar.\n",
        "  - Include_top : parameter ini bernilai boolean. Maksud dari parameter ini apabila kita ingin tetap memakai layer terakhir/layer prediksi dari model resnet. Kita isi false karena kita memakai model resnet untuk memprediksi dataset chessman bukan imagenet.\n",
        "  - Input_tensor : sesuai namanya parameter ini menspesifikasikan ukuran dari input."
      ],
      "metadata": {
        "id": "ULVSX-_j0eXX"
      }
    },
    {
      "cell_type": "code",
      "source": [
        "    import tensorflow as tf\n",
        "    from tensorflow.keras.layers import Input\n",
        "    from tensorflow.keras.applications import ResNet50\n",
        "    from tensorflow.keras.applications import ResNet152V2\n",
        "\n",
        "    model = tf.keras.models.Sequential([\n",
        "                                        \n",
        "        ResNet152V2(weights=\"imagenet\", include_top=False, input_tensor=Input(shape=(150, 150, 3))),\n",
        "\n",
        "        tf.keras.layers.Flatten(), \n",
        "        tf.keras.layers.Dense(512, activation='relu'),\n",
        "        tf.keras.layers.Dense(256, activation='relu'),\n",
        "        tf.keras.layers.Dense(6, activation='softmax')  \n",
        "    ])\n",
        "    model.layers[0].trainable = False"
      ],
      "metadata": {
        "id": "w9qjxM1wqIpT",
        "colab": {
          "base_uri": "https://localhost:8080/"
        },
        "outputId": "b0b890ef-c0e2-4168-e7c8-2b065aaba3fc"
      },
      "execution_count": 32,
      "outputs": [
        {
          "output_type": "stream",
          "name": "stdout",
          "text": [
            "Downloading data from https://storage.googleapis.com/tensorflow/keras-applications/resnet/resnet152v2_weights_tf_dim_ordering_tf_kernels_notop.h5\n",
            "234553344/234545216 [==============================] - 2s 0us/step\n",
            "234561536/234545216 [==============================] - 2s 0us/step\n"
          ]
        }
      ]
    },
    {
      "cell_type": "markdown",
      "source": [
        "- before model ready to train. it need several setting again. this add in compile stage"
      ],
      "metadata": {
        "id": "mILeLdtGqiAt"
      }
    },
    {
      "cell_type": "code",
      "source": [
        "    model.compile(optimizer=tf.optimizers.Adam(),\n",
        "                  loss='categorical_crossentropy',\n",
        "                  metrics = ['accuracy'])"
      ],
      "metadata": {
        "id": "vLP2TOOYqMXI"
      },
      "execution_count": 33,
      "outputs": []
    },
    {
      "cell_type": "markdown",
      "source": [
        "- start training model"
      ],
      "metadata": {
        "id": "1ozx3dJyqkdv"
      }
    },
    {
      "cell_type": "code",
      "source": [
        "    history = model.fit(train_generator,\n",
        "                                  validation_data=validation_generator,\n",
        "                                  epochs=50,\n",
        "                                  verbose=2)"
      ],
      "metadata": {
        "colab": {
          "base_uri": "https://localhost:8080/"
        },
        "id": "TnqDoYDfqOMK",
        "outputId": "623d66c3-4934-41aa-b75d-080aa27e3d6a"
      },
      "execution_count": 35,
      "outputs": [
        {
          "output_type": "stream",
          "name": "stdout",
          "text": [
            "Epoch 1/50\n",
            "63/63 - 144s - loss: 10.0613 - accuracy: 0.4389 - val_loss: 2.3057 - val_accuracy: 0.6154 - 144s/epoch - 2s/step\n",
            "Epoch 2/50\n",
            "63/63 - 132s - loss: 1.7788 - accuracy: 0.6673 - val_loss: 1.7571 - val_accuracy: 0.5769 - 132s/epoch - 2s/step\n",
            "Epoch 3/50\n",
            "63/63 - 131s - loss: 0.9966 - accuracy: 0.7575 - val_loss: 1.4760 - val_accuracy: 0.6923 - 131s/epoch - 2s/step\n",
            "Epoch 4/50\n",
            "63/63 - 130s - loss: 0.8904 - accuracy: 0.7936 - val_loss: 1.0561 - val_accuracy: 0.7692 - 130s/epoch - 2s/step\n",
            "Epoch 5/50\n",
            "63/63 - 133s - loss: 0.6281 - accuracy: 0.8657 - val_loss: 0.7233 - val_accuracy: 0.7500 - 133s/epoch - 2s/step\n",
            "Epoch 6/50\n",
            "63/63 - 129s - loss: 0.5156 - accuracy: 0.8417 - val_loss: 0.9294 - val_accuracy: 0.7500 - 129s/epoch - 2s/step\n",
            "Epoch 7/50\n",
            "63/63 - 130s - loss: 0.6241 - accuracy: 0.8477 - val_loss: 1.4291 - val_accuracy: 0.7308 - 130s/epoch - 2s/step\n",
            "Epoch 8/50\n",
            "63/63 - 130s - loss: 0.5824 - accuracy: 0.8677 - val_loss: 1.1428 - val_accuracy: 0.7500 - 130s/epoch - 2s/step\n",
            "Epoch 9/50\n",
            "63/63 - 129s - loss: 0.5405 - accuracy: 0.8758 - val_loss: 0.9430 - val_accuracy: 0.6923 - 129s/epoch - 2s/step\n",
            "Epoch 10/50\n",
            "63/63 - 130s - loss: 0.5000 - accuracy: 0.8617 - val_loss: 1.5757 - val_accuracy: 0.7308 - 130s/epoch - 2s/step\n",
            "Epoch 11/50\n",
            "63/63 - 130s - loss: 0.4358 - accuracy: 0.9018 - val_loss: 1.5799 - val_accuracy: 0.6923 - 130s/epoch - 2s/step\n",
            "Epoch 12/50\n",
            "63/63 - 130s - loss: 0.7882 - accuracy: 0.8597 - val_loss: 1.1524 - val_accuracy: 0.7500 - 130s/epoch - 2s/step\n",
            "Epoch 13/50\n",
            "63/63 - 130s - loss: 0.4758 - accuracy: 0.8918 - val_loss: 1.4679 - val_accuracy: 0.6923 - 130s/epoch - 2s/step\n",
            "Epoch 14/50\n",
            "63/63 - 131s - loss: 0.3742 - accuracy: 0.9118 - val_loss: 0.8736 - val_accuracy: 0.8269 - 131s/epoch - 2s/step\n",
            "Epoch 15/50\n",
            "63/63 - 131s - loss: 0.3571 - accuracy: 0.9218 - val_loss: 1.6131 - val_accuracy: 0.6538 - 131s/epoch - 2s/step\n",
            "Epoch 16/50\n",
            "63/63 - 130s - loss: 0.2725 - accuracy: 0.9158 - val_loss: 0.7630 - val_accuracy: 0.8654 - 130s/epoch - 2s/step\n",
            "Epoch 17/50\n",
            "63/63 - 130s - loss: 0.1793 - accuracy: 0.9459 - val_loss: 1.1270 - val_accuracy: 0.7500 - 130s/epoch - 2s/step\n",
            "Epoch 18/50\n",
            "63/63 - 132s - loss: 0.3974 - accuracy: 0.9218 - val_loss: 0.6466 - val_accuracy: 0.7885 - 132s/epoch - 2s/step\n",
            "Epoch 19/50\n",
            "63/63 - 131s - loss: 0.2525 - accuracy: 0.9259 - val_loss: 2.5133 - val_accuracy: 0.6731 - 131s/epoch - 2s/step\n",
            "Epoch 20/50\n",
            "63/63 - 129s - loss: 0.1824 - accuracy: 0.9579 - val_loss: 1.2975 - val_accuracy: 0.6538 - 129s/epoch - 2s/step\n",
            "Epoch 21/50\n",
            "63/63 - 130s - loss: 0.1678 - accuracy: 0.9539 - val_loss: 0.8183 - val_accuracy: 0.7885 - 130s/epoch - 2s/step\n",
            "Epoch 22/50\n",
            "63/63 - 129s - loss: 0.1578 - accuracy: 0.9599 - val_loss: 1.1103 - val_accuracy: 0.7308 - 129s/epoch - 2s/step\n",
            "Epoch 23/50\n",
            "63/63 - 130s - loss: 0.3322 - accuracy: 0.9499 - val_loss: 1.6848 - val_accuracy: 0.7500 - 130s/epoch - 2s/step\n",
            "Epoch 24/50\n",
            "63/63 - 131s - loss: 0.2099 - accuracy: 0.9379 - val_loss: 1.0917 - val_accuracy: 0.7692 - 131s/epoch - 2s/step\n",
            "Epoch 25/50\n",
            "63/63 - 132s - loss: 0.1935 - accuracy: 0.9579 - val_loss: 1.1594 - val_accuracy: 0.7885 - 132s/epoch - 2s/step\n",
            "Epoch 26/50\n",
            "63/63 - 130s - loss: 0.2085 - accuracy: 0.9519 - val_loss: 0.9755 - val_accuracy: 0.8077 - 130s/epoch - 2s/step\n",
            "Epoch 27/50\n",
            "63/63 - 134s - loss: 0.2585 - accuracy: 0.9439 - val_loss: 1.2601 - val_accuracy: 0.8269 - 134s/epoch - 2s/step\n",
            "Epoch 28/50\n",
            "63/63 - 129s - loss: 0.5317 - accuracy: 0.9379 - val_loss: 3.2045 - val_accuracy: 0.6346 - 129s/epoch - 2s/step\n",
            "Epoch 29/50\n",
            "63/63 - 130s - loss: 0.4506 - accuracy: 0.9118 - val_loss: 1.7937 - val_accuracy: 0.6923 - 130s/epoch - 2s/step\n",
            "Epoch 30/50\n",
            "63/63 - 129s - loss: 0.2661 - accuracy: 0.9519 - val_loss: 1.1024 - val_accuracy: 0.7115 - 129s/epoch - 2s/step\n",
            "Epoch 31/50\n",
            "63/63 - 129s - loss: 0.1443 - accuracy: 0.9599 - val_loss: 0.9812 - val_accuracy: 0.8077 - 129s/epoch - 2s/step\n",
            "Epoch 32/50\n",
            "63/63 - 129s - loss: 0.1871 - accuracy: 0.9439 - val_loss: 1.1228 - val_accuracy: 0.7885 - 129s/epoch - 2s/step\n",
            "Epoch 33/50\n",
            "63/63 - 131s - loss: 0.1230 - accuracy: 0.9659 - val_loss: 1.6960 - val_accuracy: 0.6346 - 131s/epoch - 2s/step\n",
            "Epoch 34/50\n",
            "63/63 - 129s - loss: 0.1308 - accuracy: 0.9619 - val_loss: 1.4125 - val_accuracy: 0.7500 - 129s/epoch - 2s/step\n",
            "Epoch 35/50\n",
            "63/63 - 129s - loss: 0.1815 - accuracy: 0.9419 - val_loss: 2.0551 - val_accuracy: 0.7115 - 129s/epoch - 2s/step\n",
            "Epoch 36/50\n",
            "63/63 - 129s - loss: 0.1852 - accuracy: 0.9559 - val_loss: 1.8655 - val_accuracy: 0.7308 - 129s/epoch - 2s/step\n",
            "Epoch 37/50\n",
            "63/63 - 129s - loss: 0.1910 - accuracy: 0.9579 - val_loss: 1.2911 - val_accuracy: 0.7885 - 129s/epoch - 2s/step\n",
            "Epoch 38/50\n",
            "63/63 - 130s - loss: 0.1680 - accuracy: 0.9599 - val_loss: 1.3597 - val_accuracy: 0.7308 - 130s/epoch - 2s/step\n",
            "Epoch 39/50\n",
            "63/63 - 129s - loss: 0.1373 - accuracy: 0.9639 - val_loss: 1.6831 - val_accuracy: 0.7115 - 129s/epoch - 2s/step\n",
            "Epoch 40/50\n",
            "63/63 - 128s - loss: 0.1496 - accuracy: 0.9679 - val_loss: 1.4194 - val_accuracy: 0.7115 - 128s/epoch - 2s/step\n",
            "Epoch 41/50\n",
            "63/63 - 130s - loss: 0.0857 - accuracy: 0.9760 - val_loss: 0.6360 - val_accuracy: 0.8654 - 130s/epoch - 2s/step\n",
            "Epoch 42/50\n",
            "63/63 - 128s - loss: 0.0930 - accuracy: 0.9619 - val_loss: 1.5198 - val_accuracy: 0.7692 - 128s/epoch - 2s/step\n",
            "Epoch 43/50\n",
            "63/63 - 132s - loss: 0.0673 - accuracy: 0.9760 - val_loss: 0.8824 - val_accuracy: 0.8077 - 132s/epoch - 2s/step\n",
            "Epoch 44/50\n",
            "63/63 - 131s - loss: 0.2529 - accuracy: 0.9519 - val_loss: 1.9311 - val_accuracy: 0.7308 - 131s/epoch - 2s/step\n",
            "Epoch 45/50\n",
            "63/63 - 133s - loss: 0.1079 - accuracy: 0.9780 - val_loss: 1.4780 - val_accuracy: 0.8462 - 133s/epoch - 2s/step\n",
            "Epoch 46/50\n",
            "63/63 - 131s - loss: 0.0619 - accuracy: 0.9800 - val_loss: 1.2498 - val_accuracy: 0.7692 - 131s/epoch - 2s/step\n",
            "Epoch 47/50\n",
            "63/63 - 130s - loss: 0.2212 - accuracy: 0.9499 - val_loss: 0.7714 - val_accuracy: 0.8077 - 130s/epoch - 2s/step\n",
            "Epoch 48/50\n",
            "63/63 - 130s - loss: 0.2997 - accuracy: 0.9359 - val_loss: 0.8962 - val_accuracy: 0.7885 - 130s/epoch - 2s/step\n",
            "Epoch 49/50\n",
            "63/63 - 131s - loss: 0.2178 - accuracy: 0.9419 - val_loss: 1.4415 - val_accuracy: 0.7500 - 131s/epoch - 2s/step\n",
            "Epoch 50/50\n",
            "63/63 - 132s - loss: 0.2502 - accuracy: 0.9539 - val_loss: 0.7198 - val_accuracy: 0.8654 - 132s/epoch - 2s/step\n"
          ]
        }
      ]
    },
    {
      "cell_type": "markdown",
      "source": [
        "- Tingkat akurasi menunjukkan hasil yang jauh lebih baik dibandingkan ketika melatih model sendiri dari awal. Akurasi dari model meningkat 40% menjadi 70 pada epoch terakhir. Hasil ini sangat luar biasa mengingat setiap kelas pada sampel kita sangat sedikit yaitu kurang dari 100 buah sampel."
      ],
      "metadata": {
        "id": "UwVZ5wRS2OTc"
      }
    },
    {
      "cell_type": "code",
      "source": [
        "import matplotlib.pyplot as plt\n",
        "\n",
        "plt.plot(history.history['accuracy'])\n",
        "plt.plot(history.history['val_accuracy'])\n",
        "plt.title('Akurasi Model')\n",
        "plt.ylabel('accuracy')\n",
        "plt.xlabel('epoch')\n",
        "plt.legend(['train', 'test'], loc='upper left')\n",
        "plt.show()"
      ],
      "metadata": {
        "colab": {
          "base_uri": "https://localhost:8080/",
          "height": 295
        },
        "id": "kba88kBkHcqA",
        "outputId": "d882705a-1107-47c0-c24e-9e6c9e32c48f"
      },
      "execution_count": 36,
      "outputs": [
        {
          "output_type": "display_data",
          "data": {
            "text/plain": [
              "<Figure size 432x288 with 1 Axes>"
            ],
            "image/png": "[encoded data removed]"
          },
          "metadata": {
            "needs_background": "light"
          }
        }
      ]
    },
    {
      "cell_type": "code",
      "source": [
        "    plt.plot(history.history['loss'])\n",
        "    plt.plot(history.history['val_loss'])\n",
        "    plt.title('Loss Model')\n",
        "    plt.ylabel('loss')\n",
        "    plt.xlabel('epoch')\n",
        "    plt.legend(['train', 'test'], loc='upper left')\n",
        "    plt.show()"
      ],
      "metadata": {
        "colab": {
          "base_uri": "https://localhost:8080/",
          "height": 295
        },
        "id": "T5eAeQjqHrWW",
        "outputId": "75e735cd-eead-4f76-93f3-f215cf334f89"
      },
      "execution_count": 37,
      "outputs": [
        {
          "output_type": "display_data",
          "data": {
            "text/plain": [
              "<Figure size 432x288 with 1 Axes>"
            ],
            "image/png": "[encoded data removed]"
          },
          "metadata": {
            "needs_background": "light"
          }
        }
      ]
    },
    {
      "cell_type": "markdown",
      "source": [
        "## Save and Load Trained Model"
      ],
      "metadata": {
        "id": "0zU2Qsk5jy4P"
      }
    },
    {
      "cell_type": "markdown",
      "source": [
        "save model\n",
        "\n",
        "- model yang telah disave dan tersimpan sementara di folder /tmp dapat dipindahkan ke google drive.\n",
        "\n",
        "- cara memindahkannya yaitu dengan mengaktifkan mount drive lalu reload kemudian drag file model dari /temp -> /content/drive/MyDrive/..\n",
        "\n",
        "- image [link](https://drive.google.com/file/d/1Fqn2OBSsSDID3yoozR7IRgSwv20jaFP1/view?usp=sharing)\n"
      ],
      "metadata": {
        "id": "H2QuIUaCkRmo"
      }
    },
    {
      "cell_type": "code",
      "source": [
        "import joblib\n",
        "\n",
        "joblib.dump(model,\"/tmp/modelClassification_img_5a.pkl\")"
      ],
      "metadata": {
        "colab": {
          "base_uri": "https://localhost:8080/"
        },
        "id": "ayDl-VagJIOy",
        "outputId": "daeb31e8-0a60-4e86-d739-1f194778774e"
      },
      "execution_count": 38,
      "outputs": [
        {
          "output_type": "stream",
          "name": "stdout",
          "text": [
            "INFO:tensorflow:Assets written to: ram://ebe66f0a-7280-482a-91b9-195ae4b2ba4a/assets\n"
          ]
        },
        {
          "output_type": "execute_result",
          "data": {
            "text/plain": [
              "['/tmp/model.pkl']"
            ]
          },
          "metadata": {},
          "execution_count": 38
        }
      ]
    },
    {
      "cell_type": "markdown",
      "source": [
        "Load model\n",
        "\n",
        "- model dapat diload dari google drive melalui path  /content/drive/MyDrive/..\n"
      ],
      "metadata": {
        "id": "8xM_1mcukbsa"
      }
    },
    {
      "cell_type": "code",
      "source": [
        "model_1 = joblib.load('/content/drive/MyDrive/model.pkl')"
      ],
      "metadata": {
        "id": "FudVkCNDrzy7"
      },
      "execution_count": 73,
      "outputs": []
    },
    {
      "cell_type": "markdown",
      "source": [
        "make predictions"
      ],
      "metadata": {
        "id": "GEdDu13Ym7XI"
      }
    },
    {
      "cell_type": "code",
      "source": [
        "# Parameters\n",
        "input_size = (150,150) # Bisa kalian ganti\n",
        "\n",
        "#define input shape\n",
        "channel = (3,)\n",
        "input_shape = input_size + channel\n",
        "\n",
        "#define labels\n",
        "labels = ['Bishop', 'KING', 'Knight', 'Pawn', 'Queen', 'ROOK']\n",
        "\n",
        "def preprocess(img,input_size):\n",
        "    nimg = img.convert('RGB').resize(input_size, resample= 0)\n",
        "    img_arr = (np.array(nimg))/255\n",
        "    return img_arr\n",
        "\n",
        "def reshape(imgs_arr):\n",
        "    return np.stack(imgs_arr, axis=0)"
      ],
      "metadata": {
        "id": "jXaQ-hjDZx0a"
      },
      "execution_count": 65,
      "outputs": []
    },
    {
      "cell_type": "code",
      "source": [
        "from PIL import Image \n",
        " \n",
        "# read image\n",
        "im = Image.open('/tmp/Chessman-image-dataset/Chess/King/00000000.jpg')\n",
        "X = preprocess(im,input_size)\n",
        "X = reshape([X])\n",
        "y = model_1.predict(X)\n",
        "\n",
        "imgplot = plt.imshow(im)\n",
        "\n",
        "# print(y)\n",
        "print( labels[np.argmax(y)], np.max(y) )\n",
        "\n"
      ],
      "metadata": {
        "colab": {
          "base_uri": "https://localhost:8080/",
          "height": 287
        },
        "id": "4rwYeaXsaO2S",
        "outputId": "db48c6b9-de87-4aa9-950f-cc43394e7600"
      },
      "execution_count": 84,
      "outputs": [
        {
          "output_type": "stream",
          "name": "stdout",
          "text": [
            "KING 0.6145868\n"
          ]
        },
        {
          "output_type": "display_data",
          "data": {
            "text/plain": [
              "<Figure size 432x288 with 1 Axes>"
            ],
            "image/png": "[encoded data removed]"
          },
          "metadata": {
            "needs_background": "light"
          }
        }
      ]
    },
    {
      "cell_type": "markdown",
      "source": [
        "referensi predict code : https://medium.com/@hafizhan.aliady/membuat-klasifikasi-gambar-images-menggunakan-keras-tensorflow-tf-keras-dan-python-53f7ae953cea"
      ],
      "metadata": {
        "id": "tK3eK85EeQpC"
      }
    },
    {
      "cell_type": "markdown",
      "source": [
        "- trained model result [link](https://drive.google.com/file/d/1jQulMtqamG0nWNpJR1T-ONqPZ4Q2OfsJ/view?usp=sharing) "
      ],
      "metadata": {
        "id": "7TaqiiiIq5A1"
      }
    }
  ]
}
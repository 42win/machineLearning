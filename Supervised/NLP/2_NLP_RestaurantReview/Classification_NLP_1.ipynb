{
  "nbformat": 4,
  "nbformat_minor": 0,
  "metadata": {
    "colab": {
      "name": "Classification_NLP_1.ipynb",
      "provenance": [],
      "collapsed_sections": []
    },
    "kernelspec": {
      "name": "python3",
      "display_name": "Python 3"
    },
    "language_info": {
      "name": "python"
    }
  },
  "cells": [
    {
      "cell_type": "markdown",
      "source": [
        "# Restoran Review Classification \n",
        "\n",
        "- Binary Text Classification"
      ],
      "metadata": {
        "id": "MESxEors_dKq"
      }
    },
    {
      "cell_type": "markdown",
      "source": [
        "1. import dataset\n",
        "\n",
        "- cause our dataset doesnt have label, so we set names=['sentence', 'label'] as label for only column 1 and 2"
      ],
      "metadata": {
        "id": "7nNkbxmYA_k1"
      }
    },
    {
      "cell_type": "code",
      "execution_count": 1,
      "metadata": {
        "id": "3bgvgs3GXvru"
      },
      "outputs": [],
      "source": [
        "    import pandas as pd\n",
        "    df = pd.read_csv('/tmp/yelp_labelled.txt', names=['sentence', 'label'], sep='\\t')"
      ]
    },
    {
      "cell_type": "markdown",
      "source": [
        "2. show last five dataset"
      ],
      "metadata": {
        "id": "WZmAvSqpBDcc"
      }
    },
    {
      "cell_type": "code",
      "source": [
        "    df.tail()"
      ],
      "metadata": {
        "colab": {
          "base_uri": "https://localhost:8080/",
          "height": 206
        },
        "id": "XE5HRFqQX6n7",
        "outputId": "9914546c-d50f-4121-9b48-f2c9bd7c37a6"
      },
      "execution_count": 2,
      "outputs": [
        {
          "output_type": "execute_result",
          "data": {
            "text/plain": [
              "                                              sentence  label\n",
              "995  I think food should have flavor and texture an...      0\n",
              "996                           Appetite instantly gone.      0\n",
              "997  Overall I was not impressed and would not go b...      0\n",
              "998  The whole experience was underwhelming, and I ...      0\n",
              "999  Then, as if I hadn't wasted enough of my life ...      0"
            ],
            "text/html": [
              "\n",
              "  <div id=\"df-1d398386-7422-4621-943c-e92d8c2a42f4\">\n",
              "    <div class=\"colab-df-container\">\n",
              "      <div>\n",
              "<style scoped>\n",
              "    .dataframe tbody tr th:only-of-type {\n",
              "        vertical-align: middle;\n",
              "    }\n",
              "\n",
              "    .dataframe tbody tr th {\n",
              "        vertical-align: top;\n",
              "    }\n",
              "\n",
              "    .dataframe thead th {\n",
              "        text-align: right;\n",
              "    }\n",
              "</style>\n",
              "<table border=\"1\" class=\"dataframe\">\n",
              "  <thead>\n",
              "    <tr style=\"text-align: right;\">\n",
              "      <th></th>\n",
              "      <th>sentence</th>\n",
              "      <th>label</th>\n",
              "    </tr>\n",
              "  </thead>\n",
              "  <tbody>\n",
              "    <tr>\n",
              "      <th>995</th>\n",
              "      <td>I think food should have flavor and texture an...</td>\n",
              "      <td>0</td>\n",
              "    </tr>\n",
              "    <tr>\n",
              "      <th>996</th>\n",
              "      <td>Appetite instantly gone.</td>\n",
              "      <td>0</td>\n",
              "    </tr>\n",
              "    <tr>\n",
              "      <th>997</th>\n",
              "      <td>Overall I was not impressed and would not go b...</td>\n",
              "      <td>0</td>\n",
              "    </tr>\n",
              "    <tr>\n",
              "      <th>998</th>\n",
              "      <td>The whole experience was underwhelming, and I ...</td>\n",
              "      <td>0</td>\n",
              "    </tr>\n",
              "    <tr>\n",
              "      <th>999</th>\n",
              "      <td>Then, as if I hadn't wasted enough of my life ...</td>\n",
              "      <td>0</td>\n",
              "    </tr>\n",
              "  </tbody>\n",
              "</table>\n",
              "</div>\n",
              "      <button class=\"colab-df-convert\" onclick=\"convertToInteractive('df-1d398386-7422-4621-943c-e92d8c2a42f4')\"\n",
              "              title=\"Convert this dataframe to an interactive table.\"\n",
              "              style=\"display:none;\">\n",
              "        \n",
              "  <svg xmlns=\"http://www.w3.org/2000/svg\" height=\"24px\"viewBox=\"0 0 24 24\"\n",
              "       width=\"24px\">\n",
              "    <path d=\"M0 0h24v24H0V0z\" fill=\"none\"/>\n",
              "    <path d=\"M18.56 5.44l.94 2.06.94-2.06 2.06-.94-2.06-.94-.94-2.06-.94 2.06-2.06.94zm-11 1L8.5 8.5l.94-2.06 2.06-.94-2.06-.94L8.5 2.5l-.94 2.06-2.06.94zm10 10l.94 2.06.94-2.06 2.06-.94-2.06-.94-.94-2.06-.94 2.06-2.06.94z\"/><path d=\"M17.41 7.96l-1.37-1.37c-.4-.4-.92-.59-1.43-.59-.52 0-1.04.2-1.43.59L10.3 9.45l-7.72 7.72c-.78.78-.78 2.05 0 2.83L4 21.41c.39.39.9.59 1.41.59.51 0 1.02-.2 1.41-.59l7.78-7.78 2.81-2.81c.8-.78.8-2.07 0-2.86zM5.41 20L4 18.59l7.72-7.72 1.47 1.35L5.41 20z\"/>\n",
              "  </svg>\n",
              "      </button>\n",
              "      \n",
              "  <style>\n",
              "    .colab-df-container {\n",
              "      display:flex;\n",
              "      flex-wrap:wrap;\n",
              "      gap: 12px;\n",
              "    }\n",
              "\n",
              "    .colab-df-convert {\n",
              "      background-color: #E8F0FE;\n",
              "      border: none;\n",
              "      border-radius: 50%;\n",
              "      cursor: pointer;\n",
              "      display: none;\n",
              "      fill: #1967D2;\n",
              "      height: 32px;\n",
              "      padding: 0 0 0 0;\n",
              "      width: 32px;\n",
              "    }\n",
              "\n",
              "    .colab-df-convert:hover {\n",
              "      background-color: #E2EBFA;\n",
              "      box-shadow: 0px 1px 2px rgba(60, 64, 67, 0.3), 0px 1px 3px 1px rgba(60, 64, 67, 0.15);\n",
              "      fill: #174EA6;\n",
              "    }\n",
              "\n",
              "    [theme=dark] .colab-df-convert {\n",
              "      background-color: #3B4455;\n",
              "      fill: #D2E3FC;\n",
              "    }\n",
              "\n",
              "    [theme=dark] .colab-df-convert:hover {\n",
              "      background-color: #434B5C;\n",
              "      box-shadow: 0px 1px 3px 1px rgba(0, 0, 0, 0.15);\n",
              "      filter: drop-shadow(0px 1px 2px rgba(0, 0, 0, 0.3));\n",
              "      fill: #FFFFFF;\n",
              "    }\n",
              "  </style>\n",
              "\n",
              "      <script>\n",
              "        const buttonEl =\n",
              "          document.querySelector('#df-1d398386-7422-4621-943c-e92d8c2a42f4 button.colab-df-convert');\n",
              "        buttonEl.style.display =\n",
              "          google.colab.kernel.accessAllowed ? 'block' : 'none';\n",
              "\n",
              "        async function convertToInteractive(key) {\n",
              "          const element = document.querySelector('#df-1d398386-7422-4621-943c-e92d8c2a42f4');\n",
              "          const dataTable =\n",
              "            await google.colab.kernel.invokeFunction('convertToInteractive',\n",
              "                                                     [key], {});\n",
              "          if (!dataTable) return;\n",
              "\n",
              "          const docLinkHtml = 'Like what you see? Visit the ' +\n",
              "            '<a target=\"_blank\" href=https://colab.research.google.com/notebooks/data_table.ipynb>data table notebook</a>'\n",
              "            + ' to learn more about interactive tables.';\n",
              "          element.innerHTML = '';\n",
              "          dataTable['output_type'] = 'display_data';\n",
              "          await google.colab.output.renderOutput(dataTable, element);\n",
              "          const docLink = document.createElement('div');\n",
              "          docLink.innerHTML = docLinkHtml;\n",
              "          element.appendChild(docLink);\n",
              "        }\n",
              "      </script>\n",
              "    </div>\n",
              "  </div>\n",
              "  "
            ]
          },
          "metadata": {},
          "execution_count": 2
        }
      ]
    },
    {
      "cell_type": "markdown",
      "source": [
        "3. Split into dataset and datatraining \n",
        "\n",
        "- define attribute and label\n",
        "- data testing 20%"
      ],
      "metadata": {
        "id": "h3RCUA3aBUMY"
      }
    },
    {
      "cell_type": "code",
      "source": [
        "    from sklearn.model_selection import train_test_split\n",
        "\n",
        "    #atttribute and label\n",
        "    kalimat = df['sentence'].values\n",
        "    y = df['label'].values\n",
        "\n",
        "    # split data training and testing\n",
        "    kalimat_latih, kalimat_test, y_latih, y_test = train_test_split(kalimat, y, test_size=0.2)"
      ],
      "metadata": {
        "id": "G1Jui0_RZd6R"
      },
      "execution_count": 2,
      "outputs": []
    },
    {
      "cell_type": "markdown",
      "source": [
        "4. tokenization\n",
        "\n",
        "- convert each kata in sentences to certain numeric in order to make text are understood by model\n",
        "\n",
        "- ``Tokenizer(num_words=250, oov_token='x')`` \n",
        "  - num_words : parameter jumlah kata yang akan ditokenisasi (250 artinya only 250 kata yg paling sering muncul yg akan dikonversi dari seluruh kata pada dataset) \n",
        "  - oov_token : parameter yg berfungsi mengganti kata-kata yang tidak ditokenisasi into certain character. lebih baik mengganti unknown words with  certain word than informasi hilang because melewatkan that words \n",
        "\n",
        "- after that we change text into sequence using ``texts_to_sequences``\n",
        "\n",
        "- then using ``pad_sequences`` to make each \n",
        "sequences have same length"
      ],
      "metadata": {
        "id": "xyau_toID5jy"
      }
    },
    {
      "cell_type": "code",
      "source": [
        "    from tensorflow.keras.preprocessing.text import Tokenizer\n",
        "    from tensorflow.keras.preprocessing.sequence import pad_sequences\n",
        "     \n",
        "    # tokenization\n",
        "    tokenizer = Tokenizer(num_words=250, oov_token='x')\n",
        "    tokenizer.fit_on_texts(kalimat_latih) \n",
        "    tokenizer.fit_on_texts(kalimat_test)\n",
        "    \n",
        "    # change text to sequences\n",
        "    sekuens_latih = tokenizer.texts_to_sequences(kalimat_latih)\n",
        "    sekuens_test = tokenizer.texts_to_sequences(kalimat_test)\n",
        "    \n",
        "    # make sequence have same lenght\n",
        "    padded_latih = pad_sequences(sekuens_latih) \n",
        "    padded_test = pad_sequences(sekuens_test)"
      ],
      "metadata": {
        "id": "cOi60UFnZgzu"
      },
      "execution_count": 3,
      "outputs": []
    },
    {
      "cell_type": "code",
      "source": [
        "print(tokenizer.word_index)"
      ],
      "metadata": {
        "colab": {
          "base_uri": "https://localhost:8080/"
        },
        "id": "DsrnwAzy1FdT",
        "outputId": "9baac5b4-efbf-411c-d800-ef29080eddc3"
      },
      "execution_count": 4,
      "outputs": [
        {
          "output_type": "stream",
          "name": "stdout",
          "text": [
            "{'x': 1, 'the': 2, 'and': 3, 'i': 4, 'was': 5, 'a': 6, 'to': 7, 'is': 8, 'this': 9, 'it': 10, 'of': 11, 'food': 12, 'not': 13, 'for': 14, 'in': 15, 'place': 16, 'good': 17, 'service': 18, 'we': 19, 'very': 20, 'my': 21, 'with': 22, 'had': 23, 'great': 24, 'that': 25, 'be': 26, 'so': 27, 'are': 28, 'were': 29, 'but': 30, 'have': 31, 'back': 32, 'you': 33, 'here': 34, 'they': 35, 'at': 36, 'on': 37, 'like': 38, 'go': 39, 'all': 40, 'time': 41, 'our': 42, 'will': 43, 'really': 44, 'as': 45, 'there': 46, 'just': 47, 'an': 48, 'their': 49, 'if': 50, 'best': 51, 'ever': 52, 'would': 53, 'friendly': 54, 'also': 55, 'never': 56, 'one': 57, 'only': 58, 'up': 59, 'restaurant': 60, 'nice': 61, 'your': 62, 'out': 63, 'no': 64, \"don't\": 65, 'from': 66, 'what': 67, 'again': 68, 'amazing': 69, 'been': 70, 'delicious': 71, 'did': 72, 'vegas': 73, 'which': 74, 'by': 75, 'pretty': 76, \"i've\": 77, 'when': 78, 'came': 79, 'experience': 80, 'some': 81, \"i'm\": 82, 'me': 83, 'us': 84, 'eat': 85, 'staff': 86, 'even': 87, 'definitely': 88, \"won't\": 89, 'disappointed': 90, 'get': 91, 'love': 92, 'minutes': 93, 'or': 94, 'bad': 95, \"it's\": 96, 'he': 97, 'got': 98, 'going': 99, 'much': 100, 'first': 101, 'about': 102, 'made': 103, 'more': 104, 'chicken': 105, 'better': 106, 'say': 107, 'think': 108, 'could': 109, 'can': 110, 'always': 111, 'way': 112, 'has': 113, 'too': 114, 'worst': 115, 'stars': 116, 'well': 117, 'than': 118, 'salad': 119, 'pizza': 120, 'how': 121, 'menu': 122, 'quality': 123, 'wait': 124, 'fresh': 125, 'other': 126, 'them': 127, 'being': 128, 'ordered': 129, 'steak': 130, 'because': 131, 'sushi': 132, 'server': 133, \"wasn't\": 134, 'went': 135, 'want': 136, 'times': 137, 'taste': 138, 'flavor': 139, \"didn't\": 140, 'do': 141, 'enough': 142, 'night': 143, 'now': 144, 'awesome': 145, 'burger': 146, 'fantastic': 147, 'over': 148, 'any': 149, 'everything': 150, 'after': 151, 'order': 152, 'recommend': 153, 'feel': 154, 'buffet': 155, 'down': 156, 'atmosphere': 157, 'know': 158, 'come': 159, 'next': 160, 'still': 161, 'meal': 162, 'slow': 163, 'bland': 164, 'tasty': 165, 'little': 166, 'terrible': 167, 'waited': 168, 'perfect': 169, 'excellent': 170, 'worth': 171, 'probably': 172, 'loved': 173, 'selection': 174, 'another': 175, 'prices': 176, 'coming': 177, 'lunch': 178, 'breakfast': 179, 'sauce': 180, 'give': 181, '2': 182, 'clean': 183, 'day': 184, \"can't\": 185, 'before': 186, 'many': 187, 'then': 188, 'fries': 189, 'off': 190, 'meat': 191, 'people': 192, 'right': 193, 'soon': 194, 'hot': 195, 'dishes': 196, 'cold': 197, 'sandwich': 198, 'every': 199, 'table': 200, 'she': 201, 'take': 202, 'make': 203, 'felt': 204, 'dish': 205, 'overall': 206, 'try': 207, 'happy': 208, 'since': 209, 'who': 210, 'absolutely': 211, 'eating': 212, 'around': 213, '5': 214, 'tasted': 215, 'took': 216, 'beer': 217, 'two': 218, 'impressed': 219, 'quite': 220, 'while': 221, 'dining': 222, 'getting': 223, 'bit': 224, 'both': 225, 'rude': 226, 'spot': 227, 'thing': 228, 'few': 229, 'sure': 230, 'said': 231, 'waitress': 232, 'spicy': 233, 'special': 234, 'far': 235, 'lot': 236, 'ambiance': 237, 'overpriced': 238, 'super': 239, 'check': 240, '1': 241, 'price': 242, 'wonderful': 243, 'must': 244, 'town': 245, 'deal': 246, 'nothing': 247, 'family': 248, 'warm': 249, \"i'll\": 250, 'tried': 251, 'seriously': 252, 'waiter': 253, 'inside': 254, 'cooked': 255, 'attentive': 256, 'found': 257, 'chips': 258, 'once': 259, 'bar': 260, 'area': 261, 'side': 262, 'small': 263, 'am': 264, 'tell': 265, 'pho': 266, 'either': 267, 'should': 268, 'poor': 269, 'his': 270, 'authentic': 271, 'hard': 272, 'left': 273, 'horrible': 274, 'mediocre': 275, 'money': 276, 'last': 277, 'shrimp': 278, 'hour': 279, 'tender': 280, 'her': 281, 'customer': 282, 'served': 283, 'where': 284, 'dinner': 285, 'potato': 286, 'management': 287, 'enjoy': 288, 'see': 289, 'done': 290, 'twice': 291, 'each': 292, 'real': 293, 'wrong': 294, 'eaten': 295, 'thai': 296, 'portions': 297, 'quick': 298, 'servers': 299, 'sick': 300, 'return': 301, 'zero': 302, 'new': 303, 'tasteless': 304, '30': 305, 'bacon': 306, 'ice': 307, 'sat': 308, 'avoid': 309, 'old': 310, 'waste': 311, 'full': 312, 'fast': 313, '3': 314, 'dessert': 315, 'seafood': 316, 'fried': 317, 'bring': 318, 'reasonable': 319, 'fish': 320, 'extremely': 321, 'anytime': 322, 'beef': 323, 'outside': 324, '10': 325, 'asked': 326, 'tables': 327, 'waiting': 328, 'seated': 329, 'long': 330, 'pasta': 331, 'barely': 332, 'talk': 333, 'huge': 334, 'these': 335, 'away': 336, \"i'd\": 337, 'thought': 338, 'hit': 339, 'disappointing': 340, 'kept': 341, 'things': 342, 'bread': 343, 'home': 344, 'places': 345, 'may': 346, 'expect': 347, 'enjoyed': 348, 'sweet': 349, 'during': 350, 'folks': 351, 'itself': 352, 'incredible': 353, 'visit': 354, 'thumbs': 355, 'rice': 356, 'damn': 357, 'sucked': 358, 'tea': 359, 'why': 360, 'gave': 361, 'high': 362, 'house': 363, 'drinks': 364, 'possible': 365, 'husband': 366, 'thin': 367, 'phoenix': 368, 'pork': 369, 'beat': 370, 'burgers': 371, 'look': 372, 'elsewhere': 373, 'heart': 374, 'close': 375, \"we'll\": 376, 'soup': 377, 'someone': 378, 'average': 379, 'owners': 380, 'wings': 381, 'cream': 382, 'kind': 383, 'fun': 384, 'chef': 385, 'steaks': 386, 'options': 387, 'manager': 388, 'helpful': 389, 'drive': 390, 'considering': 391, 'rare': 392, 'bay': 393, 'least': 394, '40': 395, 'dirty': 396, 'large': 397, 'disappointment': 398, 'sad': 399, 'highly': 400, 'piece': 401, 'something': 402, 'today': 403, 'job': 404, 'dry': 405, 'leave': 406, 'wine': 407, '20': 408, 'establishment': 409, 'needs': 410, 'fact': 411, 'though': 412, 'yummy': 413, 'friends': 414, 'trip': 415, 'pay': 416, 'everyone': 417, '4': 418, 'running': 419, 'ask': 420, 'vegetables': 421, 'unfortunately': 422, 'drink': 423, 'business': 424, 'tacos': 425, 'live': 426, 'location': 427, 'salmon': 428, 'honest': 429, 'sucks': 430, 'until': 431, 'bathroom': 432, \"wouldn't\": 433, 'such': 434, 'deserves': 435, 'star': 436, 'ate': 437, 'guess': 438, \"you're\": 439, 'busy': 440, 'arrived': 441, 'sashimi': 442, 'find': 443, 'please': 444, 'review': 445, 'pizzas': 446, 'stop': 447, 'expected': 448, 'equally': 449, 'awful': 450, 'outstanding': 451, 'flavorful': 452, 'amount': 453, 'regular': 454, 'strip': 455, 'vibe': 456, 'wanted': 457, 'interesting': 458, 'yet': 459, 'need': 460, 'stale': 461, 'used': 462, 'yourself': 463, 'chewy': 464, 'melt': 465, 'mouth': 466, 'pleasant': 467, 'gone': 468, 'cafe': 469, 'walked': 470, 'frozen': 471, 'unless': 472, 'else': 473, 'flat': 474, 'setting': 475, 'recommended': 476, 'room': 477, 'watched': 478, 'hands': 479, 'especially': 480, 'cool': 481, 'list': 482, 'decor': 483, 'wall': 484, 'quickly': 485, 'lacked': 486, 'style': 487, 'green': 488, 'salt': 489, 'pleased': 490, 'egg': 491, 'dog': 492, 'duck': 493, 'ambience': 494, 'music': 495, 'water': 496, 'seating': 497, 'cheese': 498, \"friend's\": 499, 'checked': 500, 'reviews': 501, 'par': 502, 'him': 503, 'dressing': 504, 'literally': 505, 'door': 506, 'moist': 507, 'salsa': 508, 'owner': 509, 'half': 510, 'healthy': 511, 'lacking': 512, 'although': 513, '8': 514, 'edible': 515, 'course': 516, 'treated': 517, 'bill': 518, 'sides': 519, 'desserts': 520, 'beans': 521, 'potatoes': 522, 'fine': 523, 'tip': 524, 'several': 525, 'years': 526, 'ago': 527, \"couldn't\": 528, 'party': 529, '35': 530, 'texture': 531, 'nasty': 532, 'hope': 533, 'favorite': 534, 'butter': 535, 'total': 536, 'brunch': 537, 'recommendation': 538, 'wife': 539, 'meals': 540, 'lobster': 541, 'boyfriend': 542, 'brought': 543, 'under': 544, 'ok': 545, 'care': 546, 'perfectly': 547, 'pulled': 548, 'oh': 549, \"isn't\": 550, 'homemade': 551, 'big': 552, 'beautiful': 553, 'soggy': 554, 'restaurants': 555, 'priced': 556, 'hummus': 557, 'second': 558, 'none': 559, 'insulted': 560, 'stomach': 561, 'rolls': 562, 'immediately': 563, 'subway': 564, 'couple': 565, 'rather': 566, 'stay': 567, 'empty': 568, 'greek': 569, 'vegetarian': 570, 'patio': 571, 'believe': 572, 'point': 573, 'delish': 574, 'white': 575, 'received': 576, 'pita': 577, 'totally': 578, 'different': 579, 'maybe': 580, 'generous': 581, 'told': 582, 'liked': 583, 'worse': 584, 'those': 585, 'wow': 586, 'lovers': 587, 'omg': 588, 'dark': 589, 'set': 590, 'building': 591, 'seems': 592, 'touch': 593, 'delight': 594, 'joint': 595, 'crazy': 596, 'downtown': 597, 'convenient': 598, 'staying': 599, 'suck': 600, 'between': 601, 'mall': 602, 'same': 603, 'die': 604, 'anything': 605, 'complain': 606, 'lovely': 607, 'playing': 608, 'boba': 609, 'familiar': 610, 'gyros': 611, 'started': 612, 'tuna': 613, 'color': 614, 'hours': 615, 'third': 616, 'bachi': 617, 'later': 618, 'honestly': 619, 'above': 620, 'beyond': 621, 'without': 622, 'doubt': 623, 'given': 624, 'hate': 625, 'heat': 626, 'seemed': 627, 'promise': 628, 'min': 629, 'belly': 630, 'guy': 631, 'mexican': 632, 'whole': 633, 'bunch': 634, 'choose': 635, 'nachos': 636, 'decent': 637, 'ten': 638, 'finally': 639, 'feeling': 640, 'treat': 641, 'cannot': 642, \"aren't\": 643, 'flavorless': 644, 'bite': 645, 'favor': 646, 'almost': 647, 'offers': 648, 'cook': 649, 'coffee': 650, 'means': 651, 'low': 652, 'non': 653, 'grease': 654, 'others': 655, 'bartender': 656, 'evening': 657, 'stopped': 658, 'salads': 659, 'crab': 660, 'legs': 661, 'attack': 662, 'grill': 663, 'excuse': 664, 'biscuits': 665, '100': 666, 'lots': 667, 'baby': 668, 'does': 669, 'chinese': 670, 'paper': 671, 'spend': 672, 'value': 673, \"you'd\": 674, 'eggplant': 675, 'stir': 676, 'fry': 677, 'filet': 678, 'heard': 679, 'batter': 680, 'flower': 681, 'entrees': 682, '7': 683, 'char': 684, 'roasted': 685, 'happened': 686, 'refill': 687, 'rarely': 688, 'inexpensive': 689, 'life': 690, 'stepped': 691, 'fly': 692, 'bowl': 693, 'margaritas': 694, 'cute': 695, 'simple': 696, 'roast': 697, 'presentation': 698, 'six': 699, 'work': 700, 'similar': 701, 'boot': 702, 'lukewarm': 703, 'sitting': 704, 'rated': 705, 'red': 706, 'curry': 707, 'opportunity': 708, 'boy': 709, 'hip': 710, 'stuffed': 711, 'gold': 712, 'trying': 713, 'crust': 714, 'wasting': 715, 'judge': 716, 'grossed': 717, 'greeted': 718, 'preparing': 719, 'indian': 720, 'pace': 721, 'ladies': 722, 'bye': 723, 'lady': 724, 'sugary': 725, 'person': 726, 'dont': 727, 'anyone': 728, 'acknowledged': 729, 'top': 730, 'anyway': 731, 'appetizers': 732, 'fail': 733, 'legit': 734, 'lost': 735, 'finish': 736, 'complaints': 737, 'recent': 738, 'brick': 739, 'oven': 740, 'pricing': 741, 'car': 742, 'front': 743, 'stayed': 744, 'valley': 745, 'longer': 746, 'scallop': 747, 'bakery': 748, 'dealing': 749, 'extra': 750, 'plus': 751, 'bother': 752, 'filling': 753, 'world': 754, 'shower': 755, 'mind': 756, 'nicest': 757, 'seen': 758, 'serves': 759, 'bucks': 760, '12': 761, 'services': 762, 'passed': 763, 'plate': 764, 'attitudes': 765, 'dirt': 766, 'glad': 767, 'looking': 768, 'serve': 769, 'kids': 770, 'satisfying': 771, 'reasonably': 772, 'undercooked': 773, 'professional': 774, 'station': 775, 'disgusting': 776, 'seasoned': 777, 'creamy': 778, 'charcoal': 779, 'fell': 780, 'mid': 781, 'group': 782, 'fare': 783, 'pancakes': 784, 'eggs': 785, 'disrespected': 786, 'human': 787, 'mmmm': 788, 'tap': 789, 'cheap': 790, 'let': 791, 'wrap': 792, 'garlic': 793, 'marrow': 794, 'added': 795, 'yum': 796, 'mayo': 797, 'soooo': 798, 'year': 799, 'late': 800, 'combination': 801, 'summer': 802, 'driest': 803, 'pop': 804, 'focused': 805, 'single': 806, 'needed': 807, 'fan': 808, 'assure': 809, 'end': 810, 'feels': 811, 'dine': 812, 'mistake': 813, 'friend': 814, 'serving': 815, 'crispy': 816, 'delightful': 817, 'bagels': 818, 'selections': 819, 'into': 820, 'disappoint': 821, 'taco': 822, 'bars': 823, 'hand': 824, 'helped': 825, 'completely': 826, 'definately': 827, 'mom': 828, 'bisque': 829, 'pepper': 830, 'double': 831, 'cheeseburger': 832, 'vinegrette': 833, 'puree': 834, 'looked': 835, 'overwhelmed': 836, 'word': 837, 'week': 838, 'multiple': 839, 'break': 840, 'stuff': 841, 'decided': 842, 'actually': 843, 'fairly': 844, 'simply': 845, 'note': 846, 'use': 847, 'meh': 848, 'toasted': 849, 'cow': 850, 'neighborhood': 851, 'italian': 852, 'gross': 853, 'behind': 854, 'hair': 855, 'bug': 856, 'ripped': 857, 'impeccable': 858, 'watch': 859, 'company': 860, 'needless': 861, 'become': 862, \"we've\": 863, 'portion': 864, 'sticks': 865, 'cashier': 866, 'ended': 867, 'overcooked': 868, 'underwhelming': 869, 'decorated': 870, 'comfortable': 871, 'tribute': 872, 'realized': 873, 'black': 874, 'known': 875, 'grilled': 876, 'sliced': 877, 'however': 878, 'tapas': 879, \"we're\": 880, 'recently': 881, 'its': 882, 'bites': 883, 'paid': 884, 'sub': 885, 'part': 886, 'three': 887, 'perfection': 888, 'towards': 889, 'bathrooms': 890, 'tots': 891, 'cant': 892, 'basically': 893, 'joke': 894, 'orders': 895, 'customers': 896, 'crowd': 897, 'cut': 898, \"let's\": 899, 'yama': 900, 'correct': 901, 'donut': 902, 'otto': 903, 'welcome': 904, 'bellagio': 905, 'anticipated': 906, 'phenomenal': 907, 'fucking': 908, 'lighting': 909, 'mood': 910, 'neat': 911, 'trippy': 912, 'hiro': 913, 'surprise': 914, '90': 915, 'generic': 916, 'crowds': 917, 'juries': 918, 'lawyers': 919, 'court': 920, 'mgm': 921, 'correction': 922, 'heimer': 923, 'sooooo': 924, 'connoisseur': 925, 'difference': 926, 'certainly': 927, 'brother': 928, 'law': 929, 'works': 930, 'omelets': 931, 'duo': 932, 'violinists': 933, 'songs': 934, 'requested': 935, 'dedicated': 936, 'spots': 937, 'jenni': 938, 'missing': 939, 'brownish': 940, 'obviously': 941, 'furthermore': 942, 'operation': 943, 'website': 944, 'rating': 945, 'writing': 946, 'whenever': 947, 'blown': 948, 'tragedy': 949, 'struck': 950, 'included': 951, 'tastings': 952, 'jeff': 953, 'dos': 954, 'gringos': 955, \"would've\": 956, 'godfathers': 957, 'thats': 958, 'disagree': 959, 'fellow': 960, 'yelpers': 961, 'experienced': 962, 'frenchman': 963, 'chipolte': 964, 'ranch': 965, 'dipping': 966, 'sause': 967, 'watered': 968, 'fails': 969, 'deliver': 970, \"it'll\": 971, 'trips': 972, 'swung': 973, 'deeply': 974, 'milkshake': 975, 'chocolate': 976, 'milk': 977, 'venturing': 978, 'four': 979, 'blue': 980, 'shirt': 981, 'letting': 982, 'wrapped': 983, 'dates': 984, 'cause': 985, 'owned': 986, 'regularly': 987, 'meats': 988, 'lemon': 989, 'raspberry': 990, 'cocktail': 991, 'hamburger': 992, 'guest': 993, 'crostini': 994, 'burrittos': 995, 'blah': 996, 'doughy': 997, 'hardly': 998, 'grab': 999, 'pub': 1000, 'wontons': 1001, 'thick': 1002, 'join': 1003, 'club': 1004, 'via': 1005, 'email': 1006, 'call': 1007, 'steakhouse': 1008, 'properly': 1009, 'understand': 1010, \"owner's\": 1011, 'honor': 1012, 'hut': 1013, 'coupons': 1014, 'hello': 1015, \"haven't\": 1016, 'self': 1017, 'proclaimed': 1018, 'wildly': 1019, 'yellowtail': 1020, 'carpaccio': 1021, 'lover': 1022, 'key': 1023, 'fancy': 1024, 'affordable': 1025, 'smelled': 1026, 'trap': 1027, 'dropped': 1028, 'ball': 1029, 'albondigas': 1030, 'tomato': 1031, 'meatballs': 1032, 'petty': 1033, 'turn': 1034, 'buying': 1035, 'weird': 1036, 'satisfied': 1037, 'madison': 1038, 'ironman': 1039, 'plethora': 1040, 'sandwiches': 1041, 'gets': 1042, 'seal': 1043, 'approval': 1044, 'limited': 1045, 'boiled': 1046, 'lined': 1047, 'douchey': 1048, 'indoor': 1049, 'garden': 1050, 'angry': 1051, 'extensive': 1052, 'provides': 1053, 'temp': 1054, 'prepare': 1055, 'bare': 1056, 'gloves': 1057, 'deep': 1058, 'oil': 1059, 'boys': 1060, 'north': 1061, 'scottsdale': 1062, 'words': 1063, 'editing': 1064, 'wines': 1065, 'calligraphy': 1066, 'hurry': 1067, 'expert': 1068, 'connisseur': 1069, 'topic': 1070, 'jerk': 1071, 'mess': 1072, 'located': 1073, 'crystals': 1074, 'shopping': 1075, 'aria': 1076, 'plantains': 1077, 'customize': 1078, 'usual': 1079, 'bean': 1080, 'tonight': 1081, 'elk': 1082, 'apparently': 1083, 'killer': 1084, 'chai': 1085, 'latte': 1086, 'sour': 1087, 'soups': 1088, 'opinion': 1089, 'gc': 1090, 'paying': 1091, '85': 1092, 'looks': 1093, \"kid's\": 1094, 'wienerschnitzel': 1095, 'idea': 1096, 'crumby': 1097, 'appetite': 1098, 'instantly': 1099, 'pink': 1100, 'grandmother': 1101, 'mandalay': 1102, 'putting': 1103, 'struggle': 1104, 'wave': 1105, 'reservation': 1106, 'craving': 1107, '2007': 1108, 'ample': 1109, 'forever': 1110, 'solid': 1111, 'redeeming': 1112, 'reading': 1113, 'appetizer': 1114, \"hadn't\": 1115, 'wasted': 1116, 'poured': 1117, 'wound': 1118, 'drawing': 1119, 'workers': 1120, 'perhaps': 1121, 'caught': 1122, 'judging': 1123, 'inspired': 1124, 'ground': 1125, 'smeared': 1126, 'tracked': 1127, 'everywhere': 1128, 'pile': 1129, 'bird': 1130, 'poop': 1131, \"denny's\": 1132, 'greatest': 1133, 'moods': 1134, 'apple': 1135, 'juice': 1136, 'highlights': 1137, 'nigiri': 1138, 'def': 1139, 'drastically': 1140, 'ensued': 1141, 'absolute': 1142, 'bruschetta': 1143, 'devine': 1144, 'waitresses': 1145, 'spinach': 1146, 'avocado': 1147, 'ingredients': 1148, 'quaint': 1149, \"girlfriend's\": 1150, 'veal': 1151, 'turkey': 1152, 'unprofessional': 1153, 'loyal': 1154, 'patron': 1155, 'crêpe': 1156, 'delicate': 1157, 'inch': 1158, 'wire': 1159, 'nobu': 1160, 'touched': 1161, 'worries': 1162, 'hits': 1163, 'quantity': 1164, 'thirty': 1165, 'vacant': 1166, 'fella': 1167, 'huevos': 1168, 'rancheros': 1169, 'appealing': 1170, 'changing': 1171, 'flavourful': 1172, 'bamboo': 1173, 'shoots': 1174, 'ha': 1175, 'flop': 1176, 'sample': 1177, 'tolerance': 1178, 'polite': 1179, 'wash': 1180, 'otherwise': 1181, 'dripping': 1182, 'mostly': 1183, 'sucker': 1184, 'modern': 1185, 'maintaining': 1186, 'coziness': 1187, 'hungry': 1188, 'standard': 1189, '17': 1190, 'teeth': 1191, 'sore': 1192, 'military': 1193, 'discount': 1194, 'despicable': 1195, 'whether': 1196, 'melted': 1197, 'styrofoam': 1198, 'fear': 1199, 'weekly': 1200, 'haunt': 1201, 'greasy': 1202, 'unhealthy': 1203, 'fiancé': 1204, 'middle': 1205, 'help': 1206, 'managed': 1207, 'blandest': 1208, 'cuisine': 1209, 'gooodd': 1210, 'inviting': 1211, 'biscuit': 1212, 'prime': 1213, 'rib': 1214, 'section': 1215, 'strings': 1216, 'bottom': 1217, 'offered': 1218, \"ryan's\": 1219, 'edinburgh': 1220, 'revisiting': 1221, 'menus': 1222, 'handed': 1223, 'listed': 1224, 'negligent': 1225, 'unwelcome': 1226, 'suggest': 1227, 'voodoo': 1228, 'gluten': 1229, 'free': 1230, 'rave': 1231, 'sexy': 1232, 'outrageously': 1233, 'flirting': 1234, 'hottest': 1235, 'venture': 1236, 'further': 1237, 'strawberry': 1238, 'pissd': 1239, 'continue': 1240, 'andddd': 1241, 'date': 1242, 'tigerlilly': 1243, 'afternoon': 1244, 'opened': 1245, 'due': 1246, 'forgetting': 1247, 'exceeding': 1248, 'dreamed': 1249, 'strike': 1250, 'wants': 1251, 'rushed': 1252, 'shawarrrrrrma': 1253, 'summarize': 1254, 'nay': 1255, 'transcendant': 1256, 'brings': 1257, 'joy': 1258, 'memory': 1259, 'pneumatic': 1260, 'condiment': 1261, 'dispenser': 1262, 'downright': 1263, 'bits': 1264, 'original': 1265, 'giving': 1266, 'performed': 1267, 'classy': 1268, 'succulent': 1269, 'baseball': 1270, 'strange': 1271, 'screams': 1272, 'book': 1273, \"somethat's\": 1274, 'saving': 1275, 'thanks': 1276, 'dylan': 1277, 't': 1278, 'tummy': 1279, 'hated': 1280, 'coconut': 1281, 'packed': 1282, 'penne': 1283, 'vodka': 1284, 'inconsiderate': 1285, 'classic': 1286, 'maine': 1287, 'roll': 1288, 'batch': 1289, 'thinking': 1290, 'yay': 1291, 'combos': 1292, '23': 1293, 'weak': 1294, 'circumstances': 1295, 'tops': 1296, 'genuinely': 1297, 'enthusiastic': 1298, 'app': 1299, 'firehouse': 1300, 'chipotle': 1301, 'concern': 1302, 'mellow': 1303, 'mushroom': 1304, 'shoe': 1305, 'leather': 1306, 'breaks': 1307, 'starving': 1308, 'incredibly': 1309, 'prepared': 1310, 'rolled': 1311, 'eyes': 1312, 'cocktails': 1313, 'handmade': 1314, 'hospitality': 1315, 'industry': 1316, 'paradise': 1317, 'refrained': 1318, 'recommending': 1319, 'cibo': 1320, 'power': 1321, '15': 1322, 'apologize': 1323, 'describing': 1324, 'tepid': 1325, 'impressive': 1326, \"hasn't\": 1327, 'closed': 1328, 'final': 1329, 'blow': 1330, 'thoroughly': 1331, 'glance': 1332, \"world's\": 1333, 'annoying': 1334, 'drunk': 1335, 'croutons': 1336, 'unbelievable': 1337, 'bargain': 1338, 'anyways': 1339, \"ya'all\": 1340, 'veggitarian': 1341, 'platter': 1342, 'movies': 1343, 'spaghetti': 1344, 'whatsoever': 1345, 'less': 1346, 'interior': 1347, 'rinse': 1348, 'nude': 1349, 'bought': 1350, 'nargile': 1351, 'leaves': 1352, 'desired': 1353, 'rock': 1354, 'casino': 1355, 'step': 1356, 'forward': 1357, '00': 1358, 'level': 1359, 'spice': 1360, 'whelm': 1361, 'head': 1362, \"carly's\": 1363, 'guys': 1364, 'loving': 1365, 'son': 1366, \"he's\": 1367, 'sangria': 1368, 'glass': 1369, 'ridiculous': 1370, 'maria': 1371, 'expensive': 1372, 'forty': 1373, 'five': 1374, 'vain': 1375, 'blame': 1376, 'placed': 1377, 'kabuki': 1378, 'atrocious': 1379, 'cheesecurds': 1380, 'downside': 1381, 'rge': 1382, 'fillet': 1383, 'relleno': 1384, 'blanket': 1385, 'moz': 1386, 'cover': 1387, 'subpar': 1388, \"we'd\": 1389, 'inflate': 1390, 'smaller': 1391, 'grow': 1392, 'rapidly': 1393, 'japanese': 1394, 'dude': 1395, 'ayce': 1396, 'naan': 1397, 'pine': 1398, 'nut': 1399, 'conclusion': 1400, 'guacamole': 1401, 'puréed': 1402, 'vinaigrette': 1403, 'kiddos': 1404, 'driving': 1405, 'tucson': 1406, 'cashew': 1407, 'caring': 1408, 'teamwork': 1409, 'degree': 1410, 'attached': 1411, 'gas': 1412, 'sign': 1413, 'jewel': 1414, 'las': 1415, 'exactly': 1416, 'hoping': 1417, 'nearly': 1418, 'living': 1419, 'fair': 1420, 'personable': 1421, 'deliciously': 1422, 'vanilla': 1423, 'smooth': 1424, 'profiterole': 1425, 'choux': 1426, 'pastry': 1427, 'hopes': 1428, 'vomited': 1429, '70': 1430, 'claimed': 1431, 'handled': 1432, 'beautifully': 1433, 'mouthful': 1434, 'enjoyable': 1435, 'relaxed': 1436, 'venue': 1437, 'couples': 1438, 'groups': 1439, 'etc': 1440, 'bbq': 1441, 'lighter': 1442, 'public': 1443, 'ways': 1444, \"shouldn't\": 1445, 'pros': 1446, 'dough': 1447, 'con': 1448, 'spotty': 1449, '40min': 1450, 'ordering': 1451, 'arriving': 1452, 'cape': 1453, 'cod': 1454, 'ravoli': 1455, 'cranberry': 1456, 'rotating': 1457, 'beers': 1458, 'highlight': 1459, 'quit': 1460, 'soooooo': 1461, 'freaking': 1462, 'papers': 1463, 'loves': 1464, 'bone': 1465, 'descriptions': 1466, 'eel': 1467, 'sauces': 1468, 'update': 1469, 'jalapeno': 1470, 'receives': 1471, 'exceptional': 1472, 'hole': 1473, 'street': 1474, 'delicioso': 1475, 'shocked': 1476, 'signs': 1477, 'indicate': 1478, 'cash': 1479, 'caesar': 1480, 'liking': 1481, 'number': 1482, 'reasons': 1483, 'reviewing': 1484, 'compliments': 1485, 'meet': 1486, 'expectations': 1487, 'pan': 1488, 'cakes': 1489, 'raving': 1490, 'disaster': 1491, 'tailored': 1492, 'palate': 1493, 'letdown': 1494, 'camelback': 1495, 'shop': 1496, 'cartel': 1497, 'stinks': 1498, 'bank': 1499, 'holiday': 1500, 'rick': 1501, 'steve': 1502, 'nutshell': 1503, 'restaraunt': 1504, 'smells': 1505, 'market': 1506, 'sewer': 1507, 'light': 1508, 'jamaican': 1509, 'mojitos': 1510, 'mortified': 1511, 'hopefully': 1512, 'bodes': 1513, 'google': 1514, 'imagine': 1515, 'smashburger': 1516, 'luck': 1517, 'han': 1518, 'nan': 1519, 'employee': 1520, 'funny': 1521, 'chains': 1522, 'easily': 1523, 'thru': 1524, 'somehow': 1525, 'suggestions': 1526, 'steiners': 1527, 'perpared': 1528, 'giant': 1529, 'slices': 1530, 'toast': 1531, 'lightly': 1532, 'dusted': 1533, 'powdered': 1534, 'sugar': 1535, 'weekend': 1536, 'bloody': 1537, 'mary': 1538, 'providing': 1539, 'golden': 1540, 'macarons': 1541, 'insanely': 1542, 'terrific': 1543, 'thrilled': 1544, 'accommodations': 1545, 'daughter': 1546, 'daily': 1547, 'specials': 1548, 'charming': 1549, 'outdoor': 1550, 'mains': 1551, 'uninspired': 1552, 'nyc': 1553, 'lox': 1554, 'capers': 1555, 'lived': 1556, '1979': 1557, 'foot': 1558, 'returning': 1559, 'caterpillar': 1560, 'oysters': 1561, 'beauty': 1562, 'sorry': 1563, 'del': 1564, 'avoided': 1565, 'cost': 1566, 'greedy': 1567, 'corporation': 1568, 'dime': 1569, 'classics': 1570, 'sorely': 1571, 'martini': 1572, 'outshining': 1573, 'halibut': 1574, 'postinos': 1575, 'pastas': 1576, 'hawaiian': 1577, 'breeze': 1578, 'mango': 1579, 'magic': 1580, 'pineapple': 1581, 'smoothies': 1582, \"they're\": 1583, 'forth': 1584, 'dinners': 1585, 'hilarious': 1586, 'christmas': 1587, 'eve': 1588, 'remember': 1589, 'biggest': 1590, 'entire': 1591, 'hella': 1592, 'salty': 1593, 'pale': 1594, 'instead': 1595, 'delights': 1596, 'reminds': 1597, 'shops': 1598, 'san': 1599, 'francisco': 1600, 'bussell': 1601, 'sprouts': 1602, 'risotto': 1603, 'dollars': 1604, 'eew': 1605, 'complete': 1606, 'overhaul': 1607, 'poorly': 1608, 'constructed': 1609, 'relax': 1610, 'prompt': 1611, 'bus': 1612, 'fabulous': 1613, 'rubber': 1614, 'ahead': 1615, 'warmer': 1616, 'says': 1617, 'hi': 1618, 'mixed': 1619, 'mushrooms': 1620, 'yukon': 1621, 'corn': 1622, 'beateous': 1623, 'accident': 1624, 'happier': 1625, 'mac': 1626, 'fridays': 1627, 'blows': 1628, 'stupid': 1629, 'airline': 1630, 'host': 1631, 'lack': 1632, 'bitches': 1633, 'informative': 1634, 'panna': 1635, 'cotta': 1636, 'hooked': 1637, 'buldogis': 1638, 'gourmet': 1639, 'disgrace': 1640, 'boring': 1641, 'ignored': 1642, 'hostess': 1643, 'myself': 1644, 'rich': 1645, 'accordingly': 1646, 'insults': 1647, 'profound': 1648, 'deuchebaggery': 1649, 'smoke': 1650, 'solidify': 1651, 'ones': 1652, 'scene': 1653, 'play': 1654, 'sals': 1655, \"that's\": 1656, 'velvet': 1657, 'cake': 1658, 'ohhh': 1659, 'parents': 1660, 'most': 1661, 'silently': 1662, 'gratuity': 1663, 'larger': 1664, '6': 1665, 'hardest': 1666, 'decision': 1667, \"m's\": 1668, 'supposed': 1669, 'send': 1670, 'verge': 1671, 'having': 1672, 'allergy': 1673, 'warnings': 1674, 'clue': 1675, 'contain': 1676, 'peanuts': 1677, 'ourselves': 1678, 'leftover': 1679, 'including': 1680, 'massive': 1681, 'meatloaf': 1682, 'ventilation': 1683, 'upgrading': 1684, 'mussels': 1685, 'reduction': 1686, 'tartar': 1687, 'highlighted': 1688, 'unique': 1689, 'round': 1690, 'attention': 1691, 'ignore': 1692, \"they'd\": 1693, 'bouchon': 1694, 'pack': 1695, 'tiramisu': 1696, 'cannoli': 1697, 'arrives': 1698, 'alone': 1699, 'english': 1700, 'muffin': 1701, 'untoasted': 1702, 'disgraceful': 1703, 'awkward': 1704, '5lb': 1705, '4ths': 1706, 'gristle': 1707, 'fat': 1708, 'pictures': 1709, 'miss': 1710, 'wish': 1711, 'philadelphia': 1712, 'stretch': 1713, 'imagination': 1714, 'monster': 1715, 'decide': 1716, 'imagined': 1717, 'recall': 1718, 'charged': 1719, 'peanut': 1720, \"weren't\": 1721, 'somewhat': 1722, 'waaaaaayyyyyyyyyy': 1723, 'saying': 1724, 'privileged': 1725, 'working': 1726, 'doing': 1727, 'shots': 1728, 'fireball': 1729, 'spends': 1730, 'talking': 1731, 'themselves': 1732, 'ratio': 1733, 'tenders': 1734, 'unsatisfying': 1735, 'refreshing': 1736, 'grocery': 1737, 'store': 1738, 'madhouse': 1739, 'strangers': 1740, 'pancake': 1741, 'showed': 1742, 'climbing': 1743, 'kitchen': 1744, 'banana': 1745, 'petrified': 1746, 'proven': 1747, 'dead': 1748, 'hell': 1749, 'mouths': 1750, 'bellies': 1751, 'sporting': 1752, 'events': 1753, 'walls': 1754, 'covered': 1755, \"tv's\": 1756, 'companions': 1757, 'cheated': 1758, 'crisp': 1759, 'bloddy': 1760, \"mary's\": 1761, 'dressed': 1762, 'rudely': 1763, 'refried': 1764, 'dried': 1765, 'crusty': 1766, 'gotten': 1767, \"mom's\": 1768, 'multi': 1769, 'grain': 1770, 'pumpkin': 1771, 'pecan': 1772, 'fluffy': 1773, 'truly': 1774, 'unbelievably': 1775, 'mention': 1776, 'pears': 1777, 'almonds': 1778, 'winner': 1779, 'efficient': 1780, 'sadly': 1781, 'gordon': 1782, \"ramsey's\": 1783, 'shall': 1784, 'sharply': 1785, 'chip': 1786, 'count': 1787, 'box': 1788, 'humiliated': 1789, 'worker': 1790, 'name': 1791, 'callings': 1792, 'lastly': 1793, 'mozzarella': 1794, 'ethic': 1795, 'lordy': 1796, 'khao': 1797, 'soi': 1798, 'missed': 1799, 'wayyy': 1800, 'experiencing': 1801, 'relationship': 1802, 'parties': 1803, 'neither': 1804, 'handling': 1805, 'rowdy': 1806, 'satifying': 1807, \"you'll\": 1808, 'drag': 1809, 'space': 1810, 'tiny': 1811, 'elegantly': 1812, 'tongue': 1813, 'cheek': 1814, 'hereas': 1815, 'event': 1816, 'held': 1817, 'personally': 1818, 'baklava': 1819, 'falafels': 1820, 'baba': 1821, 'ganoush': 1822, 'arepas': 1823, 'sunglasses': 1824, 'greens': 1825, 'hearts': 1826, 'palm': 1827, 'honeslty': 1828, 'courteous': 1829, 'olives': 1830, 'spring': 1831, 'iced': 1832, 'put': 1833, 'plastic': 1834, 'containers': 1835, 'opposed': 1836, 'cramming': 1837, 'takeout': 1838, 'boxes': 1839, 'excalibur': 1840, 'common': 1841, 'sense': 1842, 'reminded': 1843, 'besides': 1844, \"costco's\": 1845, 'toro': 1846, 'tartare': 1847, 'cavier': 1848, 'extraordinary': 1849, 'thinly': 1850, 'wagyu': 1851, 'truffle': 1852, 'imaginative': 1853, 'reheated': 1854, 'wedges': 1855, 'airport': 1856, 'speedy': 1857, 'piano': 1858, 'soundtrack': 1859, 'fondue': 1860, 'college': 1861, 'cooking': 1862, 'class': 1863, 'mean': 1864, 'famous': 1865, \"caballero's\": 1866, 'ninja': 1867, 'wide': 1868, 'array': 1869, 'despite': 1870, 'rate': 1871, 'businesses': 1872, 'ribeye': 1873, 'mesquite': 1874, 'poisoning': 1875, 'pucks': 1876, 'disgust': 1877, 'register': 1878, 'based': 1879, 'effort': 1880, 'show': 1881, 'gratitude': 1882, 'flair': 1883, 'bartenders': 1884, 'sunday': 1885, 'patty': 1886, 'falling': 1887, 'apart': 1888, 'picture': 1889, 'uploaded': 1890, 'yeah': 1891, 'pleasure': 1892, 'similarly': 1893, 'delivery': 1894, 'man': 1895, 'apology': 1896, '45': 1897, 'consider': 1898, 'theft': 1899, 'freezing': 1900, 'crawfish': 1901, 'reason': 1902, 'fill': 1903, 'binge': 1904, 'drinking': 1905, 'carbs': 1906, 'might': 1907, 'crema': 1908, 'café': 1909, 'expanded': 1910, 'eclectic': 1911, 'seasonal': 1912, 'fruit': 1913, 'peach': 1914, 'concept': 1915, 'noodles': 1916, 'accomodate': 1917, 'vegan': 1918, 'veggie': 1919, 'spicier': 1920, 'prefer': 1921, 'disgusted': 1922, 'trimmed': 1923, 'chow': 1924, 'mein': 1925, 'occasional': 1926, 'pats': 1927, 'asking': 1928, 'yellow': 1929, 'saffron': 1930, 'seasoning': 1931, 'sergeant': 1932, 'auju': 1933, 'plater': 1934, 'positive': 1935, 'provided': 1936, 'crepe': 1937, 'traditional': 1938, 'hunan': 1939, 'appalling': 1940, 'sun': 1941, 'problem': 1942, 'charge': 1943, '11': 1944, '99': 1945, 'bigger': 1946, 'outta': 1947, 'mediterranean': 1948, 'metro': 1949, 'typical': 1950, 'occasions': 1951, 'medium': 1952, 'bloodiest': 1953, 'fs': 1954, 'sound': 1955, 'actual': 1956, 'contained': 1957, 'disapppointment': 1958, 'witnessed': 1959, 'guests': 1960, 'hankering': 1961, 'brisket': 1962, 'consistent': 1963, 'ache': 1964, 'rest': 1965, 'particular': 1966, 'thus': 1967, 'visited': 1968, 'below': 1969, 'noca': 1970, 'summary': 1971, 'largely': 1972, 'seat': 1973, 'covers': 1974, 'replenished': 1975, 'plain': 1976, 'yucky': 1977, 'tater': 1978, 'southwest': 1979, 'goat': 1980, 'skimp': 1981, 'frustrated': 1982, 'figured': 1983, 'making': 1984, 'publicly': 1985, 'loudly': 1986, 'burned': 1987, 'saganaki': 1988, 'gyro': 1989, 'lettuce': 1990, 'accountant': 1991, 'screwed': 1992, 'suffers': 1993, 'sit': 1994, 'together': 1995, 'reviewer': 1996, \"don't'\": 1997, 'combo': 1998, 'ala': 1999, 'cart': 2000, 'across': 2001, 'officially': 2002, 'im': 2003, 'az': 2004, 'absolutley': 2005, 'past': 2006, 'fo': 2007, 'chefs': 2008, 'refused': 2009, 'anymore': 2010, 'fav': 2011, 'eyed': 2012, 'peas': 2013, 'unreal': 2014, 'tough': 2015, 'short': 2016, 'surprised': 2017, 'article': 2018, 'read': 2019, 'spices': 2020, 'serivce': 2021, 'exquisite': 2022, 'promptly': 2023, 'main': 2024, 'older': 2025, '30s': 2026, 'flavors': 2027, 'slaw': 2028, 'drenched': 2029, 'ians': 2030, 's': 2031, 'flavored': 2032, 'ri': 2033, 'calamari': 2034, 'likes': 2035, 'case': 2036, 'colder': 2037, 'diverse': 2038, 'buffets': 2039, 'relocated': 2040, 'unexperienced': 2041, 'employees': 2042, 'chickens': 2043, 'heads': 2044, 'pricey': 2045, 'disbelief': 2046, 'qualified': 2047, 'version': 2048, 'foods': 2049, 'mirage': 2050, 'finger': 2051, 'item': 2052, \"joey's\": 2053, 'voted': 2054, 'readers': 2055, 'magazine': 2056, 'luke': 2057, 'sever': 2058, 'lil': 2059, 'fuzzy': 2060, 'gem': 2061, 'onion': 2062, 'rings': 2063, 'months': 2064, 'returned': 2065, 'block': 2066, 'stood': 2067, 'begin': 2068, 'awkwardly': 2069, 'unwrapped': 2070, 'mile': 2071, 'brushfire': 2072}\n"
          ]
        }
      ]
    },
    {
      "cell_type": "markdown",
      "source": [
        "5. Make model\n",
        "\n",
        "- embeding : make ML Model understand makna each words and to group words with makna yg mirip agar berdekatan\n",
        "- pengelompokkan ini dicapai dengan memetakan each words into vektor/array\n",
        "\n",
        "- the embeding result is array 2 dimensions so we need ``flatten.layers`` to change it into 1 dimension\n",
        "\n",
        "- but we using ``GlobalAveragePooling1D`` than ``flatten`` because this function work better in NLP case.\n",
        "\n",
        "<br>\n",
        "\n",
        "- jumlah perceptron pada hidden layer  \n",
        "\n",
        "<br>\n",
        "\n",
        "- sigmoid : activation function for two classification\n",
        "- relu : default activation for ANN to speed up computation time   \n"
      ],
      "metadata": {
        "id": "AV_a_AnKX9fF"
      }
    },
    {
      "cell_type": "code",
      "source": [
        "    import tensorflow as tf\n",
        "    model = tf.keras.Sequential([\n",
        "        tf.keras.layers.Embedding(250, 16), \n",
        "        tf.keras.layers.GlobalAveragePooling1D(),\n",
        "        # tf.keras.layers.Flatten(),\n",
        "        tf.keras.layers.Dense(24, activation='relu'),\n",
        "        tf.keras.layers.Dense(1, activation='sigmoid')\n",
        "    ])\n",
        " "
      ],
      "metadata": {
        "id": "usFAJRlNZsbP"
      },
      "execution_count": 5,
      "outputs": []
    },
    {
      "cell_type": "markdown",
      "source": [
        "- to understand our model we can see diagram model"
      ],
      "metadata": {
        "id": "EC93p4FoMCaC"
      }
    },
    {
      "cell_type": "code",
      "source": [
        "from keras.utils.vis_utils import plot_model\n",
        "\n",
        "plot_model(model, to_file='model_plot.png', show_shapes=True, show_layer_names=True)"
      ],
      "metadata": {
        "colab": {
          "base_uri": "https://localhost:8080/",
          "height": 533
        },
        "id": "-fmzYEfSLdXs",
        "outputId": "024cc5b7-1095-400c-f0c4-799417bb8014"
      },
      "execution_count": 6,
      "outputs": [
        {
          "output_type": "execute_result",
          "data": {
            "text/plain": [
              "<IPython.core.display.Image object>"
            ],
            "image/png": "[encoded data removed]"
          },
          "metadata": {},
          "execution_count": 6
        }
      ]
    },
    {
      "cell_type": "markdown",
      "source": [
        "- show summary model"
      ],
      "metadata": {
        "id": "Kes8JL51vY2l"
      }
    },
    {
      "cell_type": "code",
      "source": [
        "model.summary()"
      ],
      "metadata": {
        "colab": {
          "base_uri": "https://localhost:8080/"
        },
        "id": "ykyEYyiPGHev",
        "outputId": "d5a73291-2bf5-47c7-d852-863df9982819"
      },
      "execution_count": 7,
      "outputs": [
        {
          "output_type": "stream",
          "name": "stdout",
          "text": [
            "Model: \"sequential\"\n",
            "_________________________________________________________________\n",
            " Layer (type)                Output Shape              Param #   \n",
            "=================================================================\n",
            " embedding (Embedding)       (None, None, 16)          4000      \n",
            "                                                                 \n",
            " global_average_pooling1d (G  (None, 16)               0         \n",
            " lobalAveragePooling1D)                                          \n",
            "                                                                 \n",
            " dense (Dense)               (None, 24)                408       \n",
            "                                                                 \n",
            " dense_1 (Dense)             (None, 1)                 25        \n",
            "                                                                 \n",
            "=================================================================\n",
            "Total params: 4,433\n",
            "Trainable params: 4,433\n",
            "Non-trainable params: 0\n",
            "_________________________________________________________________\n"
          ]
        }
      ]
    },
    {
      "cell_type": "markdown",
      "source": [
        "- before model ready to train. it need several setting again. this add in compile stage"
      ],
      "metadata": {
        "id": "PsbzXlL_vK6L"
      }
    },
    {
      "cell_type": "code",
      "source": [
        "  model.compile(\n",
        "      loss='binary_crossentropy',\n",
        "      optimizer='adam',\n",
        "      metrics=['accuracy'])"
      ],
      "metadata": {
        "id": "8MGX_ZZGvE01"
      },
      "execution_count": 8,
      "outputs": []
    },
    {
      "cell_type": "markdown",
      "source": [
        "- start training model"
      ],
      "metadata": {
        "id": "ltx-eCV-veU9"
      }
    },
    {
      "cell_type": "code",
      "source": [
        " \n",
        "history = model.fit(padded_latih, y_latih, \n",
        "                    epochs=30, \n",
        "                    validation_data=(padded_test, y_test), \n",
        "                    verbose=2)\n",
        "\n"
      ],
      "metadata": {
        "colab": {
          "base_uri": "https://localhost:8080/"
        },
        "id": "Yjw_2rZtZzyL",
        "outputId": "2eb6cec9-353b-4419-ab5d-b5176330bb52"
      },
      "execution_count": 9,
      "outputs": [
        {
          "output_type": "stream",
          "name": "stdout",
          "text": [
            "Epoch 1/30\n",
            "25/25 - 1s - loss: 0.6930 - accuracy: 0.5150 - val_loss: 0.6919 - val_accuracy: 0.6750 - 983ms/epoch - 39ms/step\n",
            "Epoch 2/30\n",
            "25/25 - 0s - loss: 0.6914 - accuracy: 0.5487 - val_loss: 0.6878 - val_accuracy: 0.6400 - 61ms/epoch - 2ms/step\n",
            "Epoch 3/30\n",
            "25/25 - 0s - loss: 0.6887 - accuracy: 0.5800 - val_loss: 0.6842 - val_accuracy: 0.6750 - 73ms/epoch - 3ms/step\n",
            "Epoch 4/30\n",
            "25/25 - 0s - loss: 0.6846 - accuracy: 0.5950 - val_loss: 0.6776 - val_accuracy: 0.6650 - 64ms/epoch - 3ms/step\n",
            "Epoch 5/30\n",
            "25/25 - 0s - loss: 0.6783 - accuracy: 0.6488 - val_loss: 0.6698 - val_accuracy: 0.7150 - 75ms/epoch - 3ms/step\n",
            "Epoch 6/30\n",
            "25/25 - 0s - loss: 0.6695 - accuracy: 0.6350 - val_loss: 0.6593 - val_accuracy: 0.7300 - 74ms/epoch - 3ms/step\n",
            "Epoch 7/30\n",
            "25/25 - 0s - loss: 0.6565 - accuracy: 0.7312 - val_loss: 0.6437 - val_accuracy: 0.7400 - 93ms/epoch - 4ms/step\n",
            "Epoch 8/30\n",
            "25/25 - 0s - loss: 0.6396 - accuracy: 0.7450 - val_loss: 0.6237 - val_accuracy: 0.7700 - 78ms/epoch - 3ms/step\n",
            "Epoch 9/30\n",
            "25/25 - 0s - loss: 0.6187 - accuracy: 0.7200 - val_loss: 0.6052 - val_accuracy: 0.7900 - 77ms/epoch - 3ms/step\n",
            "Epoch 10/30\n",
            "25/25 - 0s - loss: 0.5926 - accuracy: 0.7925 - val_loss: 0.5748 - val_accuracy: 0.7700 - 62ms/epoch - 2ms/step\n",
            "Epoch 11/30\n",
            "25/25 - 0s - loss: 0.5672 - accuracy: 0.7812 - val_loss: 0.5517 - val_accuracy: 0.8150 - 70ms/epoch - 3ms/step\n",
            "Epoch 12/30\n",
            "25/25 - 0s - loss: 0.5367 - accuracy: 0.7975 - val_loss: 0.5279 - val_accuracy: 0.8000 - 66ms/epoch - 3ms/step\n",
            "Epoch 13/30\n",
            "25/25 - 0s - loss: 0.5166 - accuracy: 0.8037 - val_loss: 0.4996 - val_accuracy: 0.8050 - 74ms/epoch - 3ms/step\n",
            "Epoch 14/30\n",
            "25/25 - 0s - loss: 0.4836 - accuracy: 0.8313 - val_loss: 0.4782 - val_accuracy: 0.8200 - 76ms/epoch - 3ms/step\n",
            "Epoch 15/30\n",
            "25/25 - 0s - loss: 0.4586 - accuracy: 0.8338 - val_loss: 0.4592 - val_accuracy: 0.8250 - 78ms/epoch - 3ms/step\n",
            "Epoch 16/30\n",
            "25/25 - 0s - loss: 0.4361 - accuracy: 0.8375 - val_loss: 0.4432 - val_accuracy: 0.8200 - 66ms/epoch - 3ms/step\n",
            "Epoch 17/30\n",
            "25/25 - 0s - loss: 0.4267 - accuracy: 0.8275 - val_loss: 0.4359 - val_accuracy: 0.8100 - 64ms/epoch - 3ms/step\n",
            "Epoch 18/30\n",
            "25/25 - 0s - loss: 0.4011 - accuracy: 0.8562 - val_loss: 0.4197 - val_accuracy: 0.8150 - 64ms/epoch - 3ms/step\n",
            "Epoch 19/30\n",
            "25/25 - 0s - loss: 0.3840 - accuracy: 0.8537 - val_loss: 0.4113 - val_accuracy: 0.8100 - 79ms/epoch - 3ms/step\n",
            "Epoch 20/30\n",
            "25/25 - 0s - loss: 0.3711 - accuracy: 0.8612 - val_loss: 0.4033 - val_accuracy: 0.8100 - 69ms/epoch - 3ms/step\n",
            "Epoch 21/30\n",
            "25/25 - 0s - loss: 0.3571 - accuracy: 0.8625 - val_loss: 0.3990 - val_accuracy: 0.8150 - 78ms/epoch - 3ms/step\n",
            "Epoch 22/30\n",
            "25/25 - 0s - loss: 0.3476 - accuracy: 0.8687 - val_loss: 0.3990 - val_accuracy: 0.8350 - 63ms/epoch - 3ms/step\n",
            "Epoch 23/30\n",
            "25/25 - 0s - loss: 0.3363 - accuracy: 0.8712 - val_loss: 0.3913 - val_accuracy: 0.8150 - 64ms/epoch - 3ms/step\n",
            "Epoch 24/30\n",
            "25/25 - 0s - loss: 0.3263 - accuracy: 0.8825 - val_loss: 0.3888 - val_accuracy: 0.8200 - 65ms/epoch - 3ms/step\n",
            "Epoch 25/30\n",
            "25/25 - 0s - loss: 0.3187 - accuracy: 0.8913 - val_loss: 0.3900 - val_accuracy: 0.8150 - 77ms/epoch - 3ms/step\n",
            "Epoch 26/30\n",
            "25/25 - 0s - loss: 0.3173 - accuracy: 0.8850 - val_loss: 0.3878 - val_accuracy: 0.8050 - 79ms/epoch - 3ms/step\n",
            "Epoch 27/30\n",
            "25/25 - 0s - loss: 0.3041 - accuracy: 0.8850 - val_loss: 0.3978 - val_accuracy: 0.8200 - 77ms/epoch - 3ms/step\n",
            "Epoch 28/30\n",
            "25/25 - 0s - loss: 0.3012 - accuracy: 0.8850 - val_loss: 0.3877 - val_accuracy: 0.8050 - 78ms/epoch - 3ms/step\n",
            "Epoch 29/30\n",
            "25/25 - 0s - loss: 0.2972 - accuracy: 0.8838 - val_loss: 0.3950 - val_accuracy: 0.8000 - 63ms/epoch - 3ms/step\n",
            "Epoch 30/30\n",
            "25/25 - 0s - loss: 0.2930 - accuracy: 0.8850 - val_loss: 0.3899 - val_accuracy: 0.8200 - 71ms/epoch - 3ms/step\n"
          ]
        }
      ]
    },
    {
      "cell_type": "markdown",
      "source": [
        "- evaluation model"
      ],
      "metadata": {
        "id": "dQMEItc13XRD"
      }
    },
    {
      "cell_type": "code",
      "source": [
        "model.evaluate(padded_test, y_test)"
      ],
      "metadata": {
        "colab": {
          "base_uri": "https://localhost:8080/"
        },
        "id": "4cKaXTbyMieh",
        "outputId": "9505cf2f-9f86-4865-8962-d8b10c3742c4"
      },
      "execution_count": 10,
      "outputs": [
        {
          "output_type": "stream",
          "name": "stdout",
          "text": [
            "7/7 [==============================] - 0s 2ms/step - loss: 0.3899 - accuracy: 0.8200\n"
          ]
        },
        {
          "output_type": "execute_result",
          "data": {
            "text/plain": [
              "[0.3898555636405945, 0.8199999928474426]"
            ]
          },
          "metadata": {},
          "execution_count": 10
        }
      ]
    },
    {
      "cell_type": "markdown",
      "source": [
        "5. Make Predictions"
      ],
      "metadata": {
        "id": "kwJ1JzL73co7"
      }
    },
    {
      "cell_type": "markdown",
      "source": [
        "- prediction from data testing"
      ],
      "metadata": {
        "id": "1yUpm4dh3gI_"
      }
    },
    {
      "cell_type": "code",
      "source": [
        "import numpy as np\n",
        "\n",
        "scores = model.predict(padded_test)[5]\n",
        "\n",
        "np.round(scores[0],0)\n",
        " "
      ],
      "metadata": {
        "colab": {
          "base_uri": "https://localhost:8080/"
        },
        "id": "fORJa2hSLOiM",
        "outputId": "c4f6ee9a-f855-41cd-fccb-2cdadc2f485d"
      },
      "execution_count": 12,
      "outputs": [
        {
          "output_type": "execute_result",
          "data": {
            "text/plain": [
              "1.0"
            ]
          },
          "metadata": {},
          "execution_count": 12
        }
      ]
    },
    {
      "cell_type": "markdown",
      "source": [
        "- prediction from out of dataset\n",
        "\n",
        "  - data yg masuk ke model harus disamakan dengan input model (format or preproscessing)"
      ],
      "metadata": {
        "id": "csl3-iCk3kZK"
      }
    },
    {
      "cell_type": "code",
      "source": [
        "# data input\n",
        "text = ['The chips and salsa were really good, the salsa was very fresh']\n",
        "\n",
        "# preprocessing\n",
        "\n",
        "# 1. tokenisation\n",
        "sequences = tokenizer.texts_to_sequences(text)\n",
        "\n",
        "print('word index')\n",
        "print(tokenizer.word_index)\n",
        "\n",
        "# 2. change into sequence\n",
        "var_txt = tokenizer.texts_to_sequences(text)\n",
        "\n",
        "print('\\n text disesuaikan dengan index')\n",
        "print(var_txt)\n",
        "\n",
        "# 3. make input have same lenght\n",
        "sequences_samapanjang = pad_sequences(var_txt, \n",
        "                                          padding='pre',\n",
        "                                          maxlen=31)\n",
        "\n",
        "print('\\n disamakan pangjangnya dengan model')\n",
        "print(sequences_samapanjang)\n",
        "\n",
        "#do prediction\n",
        "scores = model.predict(sequences_samapanjang)[0]\n",
        "\n",
        "print('\\n hasil prediction')\n",
        "\n",
        "print(scores)\n",
        "print(np.round(scores,0))\n",
        "\n",
        "print('\\n sesuaikan dengan label')\n",
        "\n",
        "print(y_test[5])\n",
        "print(kalimat_test[5])"
      ],
      "metadata": {
        "colab": {
          "base_uri": "https://localhost:8080/"
        },
        "id": "EMA3QQ2Zp4xs",
        "outputId": "67f35d90-88b0-4cec-9dd5-0bfdcdf87535"
      },
      "execution_count": 14,
      "outputs": [
        {
          "output_type": "stream",
          "name": "stdout",
          "text": [
            "word index\n",
            "{'x': 1, 'the': 2, 'and': 3, 'i': 4, 'was': 5, 'a': 6, 'to': 7, 'is': 8, 'this': 9, 'it': 10, 'of': 11, 'food': 12, 'not': 13, 'for': 14, 'in': 15, 'place': 16, 'good': 17, 'service': 18, 'we': 19, 'very': 20, 'my': 21, 'with': 22, 'had': 23, 'great': 24, 'that': 25, 'be': 26, 'so': 27, 'are': 28, 'were': 29, 'but': 30, 'have': 31, 'back': 32, 'you': 33, 'here': 34, 'they': 35, 'at': 36, 'on': 37, 'like': 38, 'go': 39, 'all': 40, 'time': 41, 'our': 42, 'will': 43, 'really': 44, 'as': 45, 'there': 46, 'just': 47, 'an': 48, 'their': 49, 'if': 50, 'best': 51, 'ever': 52, 'would': 53, 'friendly': 54, 'also': 55, 'never': 56, 'one': 57, 'only': 58, 'up': 59, 'restaurant': 60, 'nice': 61, 'your': 62, 'out': 63, 'no': 64, \"don't\": 65, 'from': 66, 'what': 67, 'again': 68, 'amazing': 69, 'been': 70, 'delicious': 71, 'did': 72, 'vegas': 73, 'which': 74, 'by': 75, 'pretty': 76, \"i've\": 77, 'when': 78, 'came': 79, 'experience': 80, 'some': 81, \"i'm\": 82, 'me': 83, 'us': 84, 'eat': 85, 'staff': 86, 'even': 87, 'definitely': 88, \"won't\": 89, 'disappointed': 90, 'get': 91, 'love': 92, 'minutes': 93, 'or': 94, 'bad': 95, \"it's\": 96, 'he': 97, 'got': 98, 'going': 99, 'much': 100, 'first': 101, 'about': 102, 'made': 103, 'more': 104, 'chicken': 105, 'better': 106, 'say': 107, 'think': 108, 'could': 109, 'can': 110, 'always': 111, 'way': 112, 'has': 113, 'too': 114, 'worst': 115, 'stars': 116, 'well': 117, 'than': 118, 'salad': 119, 'pizza': 120, 'how': 121, 'menu': 122, 'quality': 123, 'wait': 124, 'fresh': 125, 'other': 126, 'them': 127, 'being': 128, 'ordered': 129, 'steak': 130, 'because': 131, 'sushi': 132, 'server': 133, \"wasn't\": 134, 'went': 135, 'want': 136, 'times': 137, 'taste': 138, 'flavor': 139, \"didn't\": 140, 'do': 141, 'enough': 142, 'night': 143, 'now': 144, 'awesome': 145, 'burger': 146, 'fantastic': 147, 'over': 148, 'any': 149, 'everything': 150, 'after': 151, 'order': 152, 'recommend': 153, 'feel': 154, 'buffet': 155, 'down': 156, 'atmosphere': 157, 'know': 158, 'come': 159, 'next': 160, 'still': 161, 'meal': 162, 'slow': 163, 'bland': 164, 'tasty': 165, 'little': 166, 'terrible': 167, 'waited': 168, 'perfect': 169, 'excellent': 170, 'worth': 171, 'probably': 172, 'loved': 173, 'selection': 174, 'another': 175, 'prices': 176, 'coming': 177, 'lunch': 178, 'breakfast': 179, 'sauce': 180, 'give': 181, '2': 182, 'clean': 183, 'day': 184, \"can't\": 185, 'before': 186, 'many': 187, 'then': 188, 'fries': 189, 'off': 190, 'meat': 191, 'people': 192, 'right': 193, 'soon': 194, 'hot': 195, 'dishes': 196, 'cold': 197, 'sandwich': 198, 'every': 199, 'table': 200, 'she': 201, 'take': 202, 'make': 203, 'felt': 204, 'dish': 205, 'overall': 206, 'try': 207, 'happy': 208, 'since': 209, 'who': 210, 'absolutely': 211, 'eating': 212, 'around': 213, '5': 214, 'tasted': 215, 'took': 216, 'beer': 217, 'two': 218, 'impressed': 219, 'quite': 220, 'while': 221, 'dining': 222, 'getting': 223, 'bit': 224, 'both': 225, 'rude': 226, 'spot': 227, 'thing': 228, 'few': 229, 'sure': 230, 'said': 231, 'waitress': 232, 'spicy': 233, 'special': 234, 'far': 235, 'lot': 236, 'ambiance': 237, 'overpriced': 238, 'super': 239, 'check': 240, '1': 241, 'price': 242, 'wonderful': 243, 'must': 244, 'town': 245, 'deal': 246, 'nothing': 247, 'family': 248, 'warm': 249, \"i'll\": 250, 'tried': 251, 'seriously': 252, 'waiter': 253, 'inside': 254, 'cooked': 255, 'attentive': 256, 'found': 257, 'chips': 258, 'once': 259, 'bar': 260, 'area': 261, 'side': 262, 'small': 263, 'am': 264, 'tell': 265, 'pho': 266, 'either': 267, 'should': 268, 'poor': 269, 'his': 270, 'authentic': 271, 'hard': 272, 'left': 273, 'horrible': 274, 'mediocre': 275, 'money': 276, 'last': 277, 'shrimp': 278, 'hour': 279, 'tender': 280, 'her': 281, 'customer': 282, 'served': 283, 'where': 284, 'dinner': 285, 'potato': 286, 'management': 287, 'enjoy': 288, 'see': 289, 'done': 290, 'twice': 291, 'each': 292, 'real': 293, 'wrong': 294, 'eaten': 295, 'thai': 296, 'portions': 297, 'quick': 298, 'servers': 299, 'sick': 300, 'return': 301, 'zero': 302, 'new': 303, 'tasteless': 304, '30': 305, 'bacon': 306, 'ice': 307, 'sat': 308, 'avoid': 309, 'old': 310, 'waste': 311, 'full': 312, 'fast': 313, '3': 314, 'dessert': 315, 'seafood': 316, 'fried': 317, 'bring': 318, 'reasonable': 319, 'fish': 320, 'extremely': 321, 'anytime': 322, 'beef': 323, 'outside': 324, '10': 325, 'asked': 326, 'tables': 327, 'waiting': 328, 'seated': 329, 'long': 330, 'pasta': 331, 'barely': 332, 'talk': 333, 'huge': 334, 'these': 335, 'away': 336, \"i'd\": 337, 'thought': 338, 'hit': 339, 'disappointing': 340, 'kept': 341, 'things': 342, 'bread': 343, 'home': 344, 'places': 345, 'may': 346, 'expect': 347, 'enjoyed': 348, 'sweet': 349, 'during': 350, 'folks': 351, 'itself': 352, 'incredible': 353, 'visit': 354, 'thumbs': 355, 'rice': 356, 'damn': 357, 'sucked': 358, 'tea': 359, 'why': 360, 'gave': 361, 'high': 362, 'house': 363, 'drinks': 364, 'possible': 365, 'husband': 366, 'thin': 367, 'phoenix': 368, 'pork': 369, 'beat': 370, 'burgers': 371, 'look': 372, 'elsewhere': 373, 'heart': 374, 'close': 375, \"we'll\": 376, 'soup': 377, 'someone': 378, 'average': 379, 'owners': 380, 'wings': 381, 'cream': 382, 'kind': 383, 'fun': 384, 'chef': 385, 'steaks': 386, 'options': 387, 'manager': 388, 'helpful': 389, 'drive': 390, 'considering': 391, 'rare': 392, 'bay': 393, 'least': 394, '40': 395, 'dirty': 396, 'large': 397, 'disappointment': 398, 'sad': 399, 'highly': 400, 'piece': 401, 'something': 402, 'today': 403, 'job': 404, 'dry': 405, 'leave': 406, 'wine': 407, '20': 408, 'establishment': 409, 'needs': 410, 'fact': 411, 'though': 412, 'yummy': 413, 'friends': 414, 'trip': 415, 'pay': 416, 'everyone': 417, '4': 418, 'running': 419, 'ask': 420, 'vegetables': 421, 'unfortunately': 422, 'drink': 423, 'business': 424, 'tacos': 425, 'live': 426, 'location': 427, 'salmon': 428, 'honest': 429, 'sucks': 430, 'until': 431, 'bathroom': 432, \"wouldn't\": 433, 'such': 434, 'deserves': 435, 'star': 436, 'ate': 437, 'guess': 438, \"you're\": 439, 'busy': 440, 'arrived': 441, 'sashimi': 442, 'find': 443, 'please': 444, 'review': 445, 'pizzas': 446, 'stop': 447, 'expected': 448, 'equally': 449, 'awful': 450, 'outstanding': 451, 'flavorful': 452, 'amount': 453, 'regular': 454, 'strip': 455, 'vibe': 456, 'wanted': 457, 'interesting': 458, 'yet': 459, 'need': 460, 'stale': 461, 'used': 462, 'yourself': 463, 'chewy': 464, 'melt': 465, 'mouth': 466, 'pleasant': 467, 'gone': 468, 'cafe': 469, 'walked': 470, 'frozen': 471, 'unless': 472, 'else': 473, 'flat': 474, 'setting': 475, 'recommended': 476, 'room': 477, 'watched': 478, 'hands': 479, 'especially': 480, 'cool': 481, 'list': 482, 'decor': 483, 'wall': 484, 'quickly': 485, 'lacked': 486, 'style': 487, 'green': 488, 'salt': 489, 'pleased': 490, 'egg': 491, 'dog': 492, 'duck': 493, 'ambience': 494, 'music': 495, 'water': 496, 'seating': 497, 'cheese': 498, \"friend's\": 499, 'checked': 500, 'reviews': 501, 'par': 502, 'him': 503, 'dressing': 504, 'literally': 505, 'door': 506, 'moist': 507, 'salsa': 508, 'owner': 509, 'half': 510, 'healthy': 511, 'lacking': 512, 'although': 513, '8': 514, 'edible': 515, 'course': 516, 'treated': 517, 'bill': 518, 'sides': 519, 'desserts': 520, 'beans': 521, 'potatoes': 522, 'fine': 523, 'tip': 524, 'several': 525, 'years': 526, 'ago': 527, \"couldn't\": 528, 'party': 529, '35': 530, 'texture': 531, 'nasty': 532, 'hope': 533, 'favorite': 534, 'butter': 535, 'total': 536, 'brunch': 537, 'recommendation': 538, 'wife': 539, 'meals': 540, 'lobster': 541, 'boyfriend': 542, 'brought': 543, 'under': 544, 'ok': 545, 'care': 546, 'perfectly': 547, 'pulled': 548, 'oh': 549, \"isn't\": 550, 'homemade': 551, 'big': 552, 'beautiful': 553, 'soggy': 554, 'restaurants': 555, 'priced': 556, 'hummus': 557, 'second': 558, 'none': 559, 'insulted': 560, 'stomach': 561, 'rolls': 562, 'immediately': 563, 'subway': 564, 'couple': 565, 'rather': 566, 'stay': 567, 'empty': 568, 'greek': 569, 'vegetarian': 570, 'patio': 571, 'believe': 572, 'point': 573, 'delish': 574, 'white': 575, 'received': 576, 'pita': 577, 'totally': 578, 'different': 579, 'maybe': 580, 'generous': 581, 'told': 582, 'liked': 583, 'worse': 584, 'those': 585, 'wow': 586, 'lovers': 587, 'omg': 588, 'dark': 589, 'set': 590, 'building': 591, 'seems': 592, 'touch': 593, 'delight': 594, 'joint': 595, 'crazy': 596, 'downtown': 597, 'convenient': 598, 'staying': 599, 'suck': 600, 'between': 601, 'mall': 602, 'same': 603, 'die': 604, 'anything': 605, 'complain': 606, 'lovely': 607, 'playing': 608, 'boba': 609, 'familiar': 610, 'gyros': 611, 'started': 612, 'tuna': 613, 'color': 614, 'hours': 615, 'third': 616, 'bachi': 617, 'later': 618, 'honestly': 619, 'above': 620, 'beyond': 621, 'without': 622, 'doubt': 623, 'given': 624, 'hate': 625, 'heat': 626, 'seemed': 627, 'promise': 628, 'min': 629, 'belly': 630, 'guy': 631, 'mexican': 632, 'whole': 633, 'bunch': 634, 'choose': 635, 'nachos': 636, 'decent': 637, 'ten': 638, 'finally': 639, 'feeling': 640, 'treat': 641, 'cannot': 642, \"aren't\": 643, 'flavorless': 644, 'bite': 645, 'favor': 646, 'almost': 647, 'offers': 648, 'cook': 649, 'coffee': 650, 'means': 651, 'low': 652, 'non': 653, 'grease': 654, 'others': 655, 'bartender': 656, 'evening': 657, 'stopped': 658, 'salads': 659, 'crab': 660, 'legs': 661, 'attack': 662, 'grill': 663, 'excuse': 664, 'biscuits': 665, '100': 666, 'lots': 667, 'baby': 668, 'does': 669, 'chinese': 670, 'paper': 671, 'spend': 672, 'value': 673, \"you'd\": 674, 'eggplant': 675, 'stir': 676, 'fry': 677, 'filet': 678, 'heard': 679, 'batter': 680, 'flower': 681, 'entrees': 682, '7': 683, 'char': 684, 'roasted': 685, 'happened': 686, 'refill': 687, 'rarely': 688, 'inexpensive': 689, 'life': 690, 'stepped': 691, 'fly': 692, 'bowl': 693, 'margaritas': 694, 'cute': 695, 'simple': 696, 'roast': 697, 'presentation': 698, 'six': 699, 'work': 700, 'similar': 701, 'boot': 702, 'lukewarm': 703, 'sitting': 704, 'rated': 705, 'red': 706, 'curry': 707, 'opportunity': 708, 'boy': 709, 'hip': 710, 'stuffed': 711, 'gold': 712, 'trying': 713, 'crust': 714, 'wasting': 715, 'judge': 716, 'grossed': 717, 'greeted': 718, 'preparing': 719, 'indian': 720, 'pace': 721, 'ladies': 722, 'bye': 723, 'lady': 724, 'sugary': 725, 'person': 726, 'dont': 727, 'anyone': 728, 'acknowledged': 729, 'top': 730, 'anyway': 731, 'appetizers': 732, 'fail': 733, 'legit': 734, 'lost': 735, 'finish': 736, 'complaints': 737, 'recent': 738, 'brick': 739, 'oven': 740, 'pricing': 741, 'car': 742, 'front': 743, 'stayed': 744, 'valley': 745, 'longer': 746, 'scallop': 747, 'bakery': 748, 'dealing': 749, 'extra': 750, 'plus': 751, 'bother': 752, 'filling': 753, 'world': 754, 'shower': 755, 'mind': 756, 'nicest': 757, 'seen': 758, 'serves': 759, 'bucks': 760, '12': 761, 'services': 762, 'passed': 763, 'plate': 764, 'attitudes': 765, 'dirt': 766, 'glad': 767, 'looking': 768, 'serve': 769, 'kids': 770, 'satisfying': 771, 'reasonably': 772, 'undercooked': 773, 'professional': 774, 'station': 775, 'disgusting': 776, 'seasoned': 777, 'creamy': 778, 'charcoal': 779, 'fell': 780, 'mid': 781, 'group': 782, 'fare': 783, 'pancakes': 784, 'eggs': 785, 'disrespected': 786, 'human': 787, 'mmmm': 788, 'tap': 789, 'cheap': 790, 'let': 791, 'wrap': 792, 'garlic': 793, 'marrow': 794, 'added': 795, 'yum': 796, 'mayo': 797, 'soooo': 798, 'year': 799, 'late': 800, 'combination': 801, 'summer': 802, 'driest': 803, 'pop': 804, 'focused': 805, 'single': 806, 'needed': 807, 'fan': 808, 'assure': 809, 'end': 810, 'feels': 811, 'dine': 812, 'mistake': 813, 'friend': 814, 'serving': 815, 'crispy': 816, 'delightful': 817, 'bagels': 818, 'selections': 819, 'into': 820, 'disappoint': 821, 'taco': 822, 'bars': 823, 'hand': 824, 'helped': 825, 'completely': 826, 'definately': 827, 'mom': 828, 'bisque': 829, 'pepper': 830, 'double': 831, 'cheeseburger': 832, 'vinegrette': 833, 'puree': 834, 'looked': 835, 'overwhelmed': 836, 'word': 837, 'week': 838, 'multiple': 839, 'break': 840, 'stuff': 841, 'decided': 842, 'actually': 843, 'fairly': 844, 'simply': 845, 'note': 846, 'use': 847, 'meh': 848, 'toasted': 849, 'cow': 850, 'neighborhood': 851, 'italian': 852, 'gross': 853, 'behind': 854, 'hair': 855, 'bug': 856, 'ripped': 857, 'impeccable': 858, 'watch': 859, 'company': 860, 'needless': 861, 'become': 862, \"we've\": 863, 'portion': 864, 'sticks': 865, 'cashier': 866, 'ended': 867, 'overcooked': 868, 'underwhelming': 869, 'decorated': 870, 'comfortable': 871, 'tribute': 872, 'realized': 873, 'black': 874, 'known': 875, 'grilled': 876, 'sliced': 877, 'however': 878, 'tapas': 879, \"we're\": 880, 'recently': 881, 'its': 882, 'bites': 883, 'paid': 884, 'sub': 885, 'part': 886, 'three': 887, 'perfection': 888, 'towards': 889, 'bathrooms': 890, 'tots': 891, 'cant': 892, 'basically': 893, 'joke': 894, 'orders': 895, 'customers': 896, 'crowd': 897, 'cut': 898, \"let's\": 899, 'yama': 900, 'correct': 901, 'donut': 902, 'otto': 903, 'welcome': 904, 'bellagio': 905, 'anticipated': 906, 'phenomenal': 907, 'fucking': 908, 'lighting': 909, 'mood': 910, 'neat': 911, 'trippy': 912, 'hiro': 913, 'surprise': 914, '90': 915, 'generic': 916, 'crowds': 917, 'juries': 918, 'lawyers': 919, 'court': 920, 'mgm': 921, 'correction': 922, 'heimer': 923, 'sooooo': 924, 'connoisseur': 925, 'difference': 926, 'certainly': 927, 'brother': 928, 'law': 929, 'works': 930, 'omelets': 931, 'duo': 932, 'violinists': 933, 'songs': 934, 'requested': 935, 'dedicated': 936, 'spots': 937, 'jenni': 938, 'missing': 939, 'brownish': 940, 'obviously': 941, 'furthermore': 942, 'operation': 943, 'website': 944, 'rating': 945, 'writing': 946, 'whenever': 947, 'blown': 948, 'tragedy': 949, 'struck': 950, 'included': 951, 'tastings': 952, 'jeff': 953, 'dos': 954, 'gringos': 955, \"would've\": 956, 'godfathers': 957, 'thats': 958, 'disagree': 959, 'fellow': 960, 'yelpers': 961, 'experienced': 962, 'frenchman': 963, 'chipolte': 964, 'ranch': 965, 'dipping': 966, 'sause': 967, 'watered': 968, 'fails': 969, 'deliver': 970, \"it'll\": 971, 'trips': 972, 'swung': 973, 'deeply': 974, 'milkshake': 975, 'chocolate': 976, 'milk': 977, 'venturing': 978, 'four': 979, 'blue': 980, 'shirt': 981, 'letting': 982, 'wrapped': 983, 'dates': 984, 'cause': 985, 'owned': 986, 'regularly': 987, 'meats': 988, 'lemon': 989, 'raspberry': 990, 'cocktail': 991, 'hamburger': 992, 'guest': 993, 'crostini': 994, 'burrittos': 995, 'blah': 996, 'doughy': 997, 'hardly': 998, 'grab': 999, 'pub': 1000, 'wontons': 1001, 'thick': 1002, 'join': 1003, 'club': 1004, 'via': 1005, 'email': 1006, 'call': 1007, 'steakhouse': 1008, 'properly': 1009, 'understand': 1010, \"owner's\": 1011, 'honor': 1012, 'hut': 1013, 'coupons': 1014, 'hello': 1015, \"haven't\": 1016, 'self': 1017, 'proclaimed': 1018, 'wildly': 1019, 'yellowtail': 1020, 'carpaccio': 1021, 'lover': 1022, 'key': 1023, 'fancy': 1024, 'affordable': 1025, 'smelled': 1026, 'trap': 1027, 'dropped': 1028, 'ball': 1029, 'albondigas': 1030, 'tomato': 1031, 'meatballs': 1032, 'petty': 1033, 'turn': 1034, 'buying': 1035, 'weird': 1036, 'satisfied': 1037, 'madison': 1038, 'ironman': 1039, 'plethora': 1040, 'sandwiches': 1041, 'gets': 1042, 'seal': 1043, 'approval': 1044, 'limited': 1045, 'boiled': 1046, 'lined': 1047, 'douchey': 1048, 'indoor': 1049, 'garden': 1050, 'angry': 1051, 'extensive': 1052, 'provides': 1053, 'temp': 1054, 'prepare': 1055, 'bare': 1056, 'gloves': 1057, 'deep': 1058, 'oil': 1059, 'boys': 1060, 'north': 1061, 'scottsdale': 1062, 'words': 1063, 'editing': 1064, 'wines': 1065, 'calligraphy': 1066, 'hurry': 1067, 'expert': 1068, 'connisseur': 1069, 'topic': 1070, 'jerk': 1071, 'mess': 1072, 'located': 1073, 'crystals': 1074, 'shopping': 1075, 'aria': 1076, 'plantains': 1077, 'customize': 1078, 'usual': 1079, 'bean': 1080, 'tonight': 1081, 'elk': 1082, 'apparently': 1083, 'killer': 1084, 'chai': 1085, 'latte': 1086, 'sour': 1087, 'soups': 1088, 'opinion': 1089, 'gc': 1090, 'paying': 1091, '85': 1092, 'looks': 1093, \"kid's\": 1094, 'wienerschnitzel': 1095, 'idea': 1096, 'crumby': 1097, 'appetite': 1098, 'instantly': 1099, 'pink': 1100, 'grandmother': 1101, 'mandalay': 1102, 'putting': 1103, 'struggle': 1104, 'wave': 1105, 'reservation': 1106, 'craving': 1107, '2007': 1108, 'ample': 1109, 'forever': 1110, 'solid': 1111, 'redeeming': 1112, 'reading': 1113, 'appetizer': 1114, \"hadn't\": 1115, 'wasted': 1116, 'poured': 1117, 'wound': 1118, 'drawing': 1119, 'workers': 1120, 'perhaps': 1121, 'caught': 1122, 'judging': 1123, 'inspired': 1124, 'ground': 1125, 'smeared': 1126, 'tracked': 1127, 'everywhere': 1128, 'pile': 1129, 'bird': 1130, 'poop': 1131, \"denny's\": 1132, 'greatest': 1133, 'moods': 1134, 'apple': 1135, 'juice': 1136, 'highlights': 1137, 'nigiri': 1138, 'def': 1139, 'drastically': 1140, 'ensued': 1141, 'absolute': 1142, 'bruschetta': 1143, 'devine': 1144, 'waitresses': 1145, 'spinach': 1146, 'avocado': 1147, 'ingredients': 1148, 'quaint': 1149, \"girlfriend's\": 1150, 'veal': 1151, 'turkey': 1152, 'unprofessional': 1153, 'loyal': 1154, 'patron': 1155, 'crêpe': 1156, 'delicate': 1157, 'inch': 1158, 'wire': 1159, 'nobu': 1160, 'touched': 1161, 'worries': 1162, 'hits': 1163, 'quantity': 1164, 'thirty': 1165, 'vacant': 1166, 'fella': 1167, 'huevos': 1168, 'rancheros': 1169, 'appealing': 1170, 'changing': 1171, 'flavourful': 1172, 'bamboo': 1173, 'shoots': 1174, 'ha': 1175, 'flop': 1176, 'sample': 1177, 'tolerance': 1178, 'polite': 1179, 'wash': 1180, 'otherwise': 1181, 'dripping': 1182, 'mostly': 1183, 'sucker': 1184, 'modern': 1185, 'maintaining': 1186, 'coziness': 1187, 'hungry': 1188, 'standard': 1189, '17': 1190, 'teeth': 1191, 'sore': 1192, 'military': 1193, 'discount': 1194, 'despicable': 1195, 'whether': 1196, 'melted': 1197, 'styrofoam': 1198, 'fear': 1199, 'weekly': 1200, 'haunt': 1201, 'greasy': 1202, 'unhealthy': 1203, 'fiancé': 1204, 'middle': 1205, 'help': 1206, 'managed': 1207, 'blandest': 1208, 'cuisine': 1209, 'gooodd': 1210, 'inviting': 1211, 'biscuit': 1212, 'prime': 1213, 'rib': 1214, 'section': 1215, 'strings': 1216, 'bottom': 1217, 'offered': 1218, \"ryan's\": 1219, 'edinburgh': 1220, 'revisiting': 1221, 'menus': 1222, 'handed': 1223, 'listed': 1224, 'negligent': 1225, 'unwelcome': 1226, 'suggest': 1227, 'voodoo': 1228, 'gluten': 1229, 'free': 1230, 'rave': 1231, 'sexy': 1232, 'outrageously': 1233, 'flirting': 1234, 'hottest': 1235, 'venture': 1236, 'further': 1237, 'strawberry': 1238, 'pissd': 1239, 'continue': 1240, 'andddd': 1241, 'date': 1242, 'tigerlilly': 1243, 'afternoon': 1244, 'opened': 1245, 'due': 1246, 'forgetting': 1247, 'exceeding': 1248, 'dreamed': 1249, 'strike': 1250, 'wants': 1251, 'rushed': 1252, 'shawarrrrrrma': 1253, 'summarize': 1254, 'nay': 1255, 'transcendant': 1256, 'brings': 1257, 'joy': 1258, 'memory': 1259, 'pneumatic': 1260, 'condiment': 1261, 'dispenser': 1262, 'downright': 1263, 'bits': 1264, 'original': 1265, 'giving': 1266, 'performed': 1267, 'classy': 1268, 'succulent': 1269, 'baseball': 1270, 'strange': 1271, 'screams': 1272, 'book': 1273, \"somethat's\": 1274, 'saving': 1275, 'thanks': 1276, 'dylan': 1277, 't': 1278, 'tummy': 1279, 'hated': 1280, 'coconut': 1281, 'packed': 1282, 'penne': 1283, 'vodka': 1284, 'inconsiderate': 1285, 'classic': 1286, 'maine': 1287, 'roll': 1288, 'batch': 1289, 'thinking': 1290, 'yay': 1291, 'combos': 1292, '23': 1293, 'weak': 1294, 'circumstances': 1295, 'tops': 1296, 'genuinely': 1297, 'enthusiastic': 1298, 'app': 1299, 'firehouse': 1300, 'chipotle': 1301, 'concern': 1302, 'mellow': 1303, 'mushroom': 1304, 'shoe': 1305, 'leather': 1306, 'breaks': 1307, 'starving': 1308, 'incredibly': 1309, 'prepared': 1310, 'rolled': 1311, 'eyes': 1312, 'cocktails': 1313, 'handmade': 1314, 'hospitality': 1315, 'industry': 1316, 'paradise': 1317, 'refrained': 1318, 'recommending': 1319, 'cibo': 1320, 'power': 1321, '15': 1322, 'apologize': 1323, 'describing': 1324, 'tepid': 1325, 'impressive': 1326, \"hasn't\": 1327, 'closed': 1328, 'final': 1329, 'blow': 1330, 'thoroughly': 1331, 'glance': 1332, \"world's\": 1333, 'annoying': 1334, 'drunk': 1335, 'croutons': 1336, 'unbelievable': 1337, 'bargain': 1338, 'anyways': 1339, \"ya'all\": 1340, 'veggitarian': 1341, 'platter': 1342, 'movies': 1343, 'spaghetti': 1344, 'whatsoever': 1345, 'less': 1346, 'interior': 1347, 'rinse': 1348, 'nude': 1349, 'bought': 1350, 'nargile': 1351, 'leaves': 1352, 'desired': 1353, 'rock': 1354, 'casino': 1355, 'step': 1356, 'forward': 1357, '00': 1358, 'level': 1359, 'spice': 1360, 'whelm': 1361, 'head': 1362, \"carly's\": 1363, 'guys': 1364, 'loving': 1365, 'son': 1366, \"he's\": 1367, 'sangria': 1368, 'glass': 1369, 'ridiculous': 1370, 'maria': 1371, 'expensive': 1372, 'forty': 1373, 'five': 1374, 'vain': 1375, 'blame': 1376, 'placed': 1377, 'kabuki': 1378, 'atrocious': 1379, 'cheesecurds': 1380, 'downside': 1381, 'rge': 1382, 'fillet': 1383, 'relleno': 1384, 'blanket': 1385, 'moz': 1386, 'cover': 1387, 'subpar': 1388, \"we'd\": 1389, 'inflate': 1390, 'smaller': 1391, 'grow': 1392, 'rapidly': 1393, 'japanese': 1394, 'dude': 1395, 'ayce': 1396, 'naan': 1397, 'pine': 1398, 'nut': 1399, 'conclusion': 1400, 'guacamole': 1401, 'puréed': 1402, 'vinaigrette': 1403, 'kiddos': 1404, 'driving': 1405, 'tucson': 1406, 'cashew': 1407, 'caring': 1408, 'teamwork': 1409, 'degree': 1410, 'attached': 1411, 'gas': 1412, 'sign': 1413, 'jewel': 1414, 'las': 1415, 'exactly': 1416, 'hoping': 1417, 'nearly': 1418, 'living': 1419, 'fair': 1420, 'personable': 1421, 'deliciously': 1422, 'vanilla': 1423, 'smooth': 1424, 'profiterole': 1425, 'choux': 1426, 'pastry': 1427, 'hopes': 1428, 'vomited': 1429, '70': 1430, 'claimed': 1431, 'handled': 1432, 'beautifully': 1433, 'mouthful': 1434, 'enjoyable': 1435, 'relaxed': 1436, 'venue': 1437, 'couples': 1438, 'groups': 1439, 'etc': 1440, 'bbq': 1441, 'lighter': 1442, 'public': 1443, 'ways': 1444, \"shouldn't\": 1445, 'pros': 1446, 'dough': 1447, 'con': 1448, 'spotty': 1449, '40min': 1450, 'ordering': 1451, 'arriving': 1452, 'cape': 1453, 'cod': 1454, 'ravoli': 1455, 'cranberry': 1456, 'rotating': 1457, 'beers': 1458, 'highlight': 1459, 'quit': 1460, 'soooooo': 1461, 'freaking': 1462, 'papers': 1463, 'loves': 1464, 'bone': 1465, 'descriptions': 1466, 'eel': 1467, 'sauces': 1468, 'update': 1469, 'jalapeno': 1470, 'receives': 1471, 'exceptional': 1472, 'hole': 1473, 'street': 1474, 'delicioso': 1475, 'shocked': 1476, 'signs': 1477, 'indicate': 1478, 'cash': 1479, 'caesar': 1480, 'liking': 1481, 'number': 1482, 'reasons': 1483, 'reviewing': 1484, 'compliments': 1485, 'meet': 1486, 'expectations': 1487, 'pan': 1488, 'cakes': 1489, 'raving': 1490, 'disaster': 1491, 'tailored': 1492, 'palate': 1493, 'letdown': 1494, 'camelback': 1495, 'shop': 1496, 'cartel': 1497, 'stinks': 1498, 'bank': 1499, 'holiday': 1500, 'rick': 1501, 'steve': 1502, 'nutshell': 1503, 'restaraunt': 1504, 'smells': 1505, 'market': 1506, 'sewer': 1507, 'light': 1508, 'jamaican': 1509, 'mojitos': 1510, 'mortified': 1511, 'hopefully': 1512, 'bodes': 1513, 'google': 1514, 'imagine': 1515, 'smashburger': 1516, 'luck': 1517, 'han': 1518, 'nan': 1519, 'employee': 1520, 'funny': 1521, 'chains': 1522, 'easily': 1523, 'thru': 1524, 'somehow': 1525, 'suggestions': 1526, 'steiners': 1527, 'perpared': 1528, 'giant': 1529, 'slices': 1530, 'toast': 1531, 'lightly': 1532, 'dusted': 1533, 'powdered': 1534, 'sugar': 1535, 'weekend': 1536, 'bloody': 1537, 'mary': 1538, 'providing': 1539, 'golden': 1540, 'macarons': 1541, 'insanely': 1542, 'terrific': 1543, 'thrilled': 1544, 'accommodations': 1545, 'daughter': 1546, 'daily': 1547, 'specials': 1548, 'charming': 1549, 'outdoor': 1550, 'mains': 1551, 'uninspired': 1552, 'nyc': 1553, 'lox': 1554, 'capers': 1555, 'lived': 1556, '1979': 1557, 'foot': 1558, 'returning': 1559, 'caterpillar': 1560, 'oysters': 1561, 'beauty': 1562, 'sorry': 1563, 'del': 1564, 'avoided': 1565, 'cost': 1566, 'greedy': 1567, 'corporation': 1568, 'dime': 1569, 'classics': 1570, 'sorely': 1571, 'martini': 1572, 'outshining': 1573, 'halibut': 1574, 'postinos': 1575, 'pastas': 1576, 'hawaiian': 1577, 'breeze': 1578, 'mango': 1579, 'magic': 1580, 'pineapple': 1581, 'smoothies': 1582, \"they're\": 1583, 'forth': 1584, 'dinners': 1585, 'hilarious': 1586, 'christmas': 1587, 'eve': 1588, 'remember': 1589, 'biggest': 1590, 'entire': 1591, 'hella': 1592, 'salty': 1593, 'pale': 1594, 'instead': 1595, 'delights': 1596, 'reminds': 1597, 'shops': 1598, 'san': 1599, 'francisco': 1600, 'bussell': 1601, 'sprouts': 1602, 'risotto': 1603, 'dollars': 1604, 'eew': 1605, 'complete': 1606, 'overhaul': 1607, 'poorly': 1608, 'constructed': 1609, 'relax': 1610, 'prompt': 1611, 'bus': 1612, 'fabulous': 1613, 'rubber': 1614, 'ahead': 1615, 'warmer': 1616, 'says': 1617, 'hi': 1618, 'mixed': 1619, 'mushrooms': 1620, 'yukon': 1621, 'corn': 1622, 'beateous': 1623, 'accident': 1624, 'happier': 1625, 'mac': 1626, 'fridays': 1627, 'blows': 1628, 'stupid': 1629, 'airline': 1630, 'host': 1631, 'lack': 1632, 'bitches': 1633, 'informative': 1634, 'panna': 1635, 'cotta': 1636, 'hooked': 1637, 'buldogis': 1638, 'gourmet': 1639, 'disgrace': 1640, 'boring': 1641, 'ignored': 1642, 'hostess': 1643, 'myself': 1644, 'rich': 1645, 'accordingly': 1646, 'insults': 1647, 'profound': 1648, 'deuchebaggery': 1649, 'smoke': 1650, 'solidify': 1651, 'ones': 1652, 'scene': 1653, 'play': 1654, 'sals': 1655, \"that's\": 1656, 'velvet': 1657, 'cake': 1658, 'ohhh': 1659, 'parents': 1660, 'most': 1661, 'silently': 1662, 'gratuity': 1663, 'larger': 1664, '6': 1665, 'hardest': 1666, 'decision': 1667, \"m's\": 1668, 'supposed': 1669, 'send': 1670, 'verge': 1671, 'having': 1672, 'allergy': 1673, 'warnings': 1674, 'clue': 1675, 'contain': 1676, 'peanuts': 1677, 'ourselves': 1678, 'leftover': 1679, 'including': 1680, 'massive': 1681, 'meatloaf': 1682, 'ventilation': 1683, 'upgrading': 1684, 'mussels': 1685, 'reduction': 1686, 'tartar': 1687, 'highlighted': 1688, 'unique': 1689, 'round': 1690, 'attention': 1691, 'ignore': 1692, \"they'd\": 1693, 'bouchon': 1694, 'pack': 1695, 'tiramisu': 1696, 'cannoli': 1697, 'arrives': 1698, 'alone': 1699, 'english': 1700, 'muffin': 1701, 'untoasted': 1702, 'disgraceful': 1703, 'awkward': 1704, '5lb': 1705, '4ths': 1706, 'gristle': 1707, 'fat': 1708, 'pictures': 1709, 'miss': 1710, 'wish': 1711, 'philadelphia': 1712, 'stretch': 1713, 'imagination': 1714, 'monster': 1715, 'decide': 1716, 'imagined': 1717, 'recall': 1718, 'charged': 1719, 'peanut': 1720, \"weren't\": 1721, 'somewhat': 1722, 'waaaaaayyyyyyyyyy': 1723, 'saying': 1724, 'privileged': 1725, 'working': 1726, 'doing': 1727, 'shots': 1728, 'fireball': 1729, 'spends': 1730, 'talking': 1731, 'themselves': 1732, 'ratio': 1733, 'tenders': 1734, 'unsatisfying': 1735, 'refreshing': 1736, 'grocery': 1737, 'store': 1738, 'madhouse': 1739, 'strangers': 1740, 'pancake': 1741, 'showed': 1742, 'climbing': 1743, 'kitchen': 1744, 'banana': 1745, 'petrified': 1746, 'proven': 1747, 'dead': 1748, 'hell': 1749, 'mouths': 1750, 'bellies': 1751, 'sporting': 1752, 'events': 1753, 'walls': 1754, 'covered': 1755, \"tv's\": 1756, 'companions': 1757, 'cheated': 1758, 'crisp': 1759, 'bloddy': 1760, \"mary's\": 1761, 'dressed': 1762, 'rudely': 1763, 'refried': 1764, 'dried': 1765, 'crusty': 1766, 'gotten': 1767, \"mom's\": 1768, 'multi': 1769, 'grain': 1770, 'pumpkin': 1771, 'pecan': 1772, 'fluffy': 1773, 'truly': 1774, 'unbelievably': 1775, 'mention': 1776, 'pears': 1777, 'almonds': 1778, 'winner': 1779, 'efficient': 1780, 'sadly': 1781, 'gordon': 1782, \"ramsey's\": 1783, 'shall': 1784, 'sharply': 1785, 'chip': 1786, 'count': 1787, 'box': 1788, 'humiliated': 1789, 'worker': 1790, 'name': 1791, 'callings': 1792, 'lastly': 1793, 'mozzarella': 1794, 'ethic': 1795, 'lordy': 1796, 'khao': 1797, 'soi': 1798, 'missed': 1799, 'wayyy': 1800, 'experiencing': 1801, 'relationship': 1802, 'parties': 1803, 'neither': 1804, 'handling': 1805, 'rowdy': 1806, 'satifying': 1807, \"you'll\": 1808, 'drag': 1809, 'space': 1810, 'tiny': 1811, 'elegantly': 1812, 'tongue': 1813, 'cheek': 1814, 'hereas': 1815, 'event': 1816, 'held': 1817, 'personally': 1818, 'baklava': 1819, 'falafels': 1820, 'baba': 1821, 'ganoush': 1822, 'arepas': 1823, 'sunglasses': 1824, 'greens': 1825, 'hearts': 1826, 'palm': 1827, 'honeslty': 1828, 'courteous': 1829, 'olives': 1830, 'spring': 1831, 'iced': 1832, 'put': 1833, 'plastic': 1834, 'containers': 1835, 'opposed': 1836, 'cramming': 1837, 'takeout': 1838, 'boxes': 1839, 'excalibur': 1840, 'common': 1841, 'sense': 1842, 'reminded': 1843, 'besides': 1844, \"costco's\": 1845, 'toro': 1846, 'tartare': 1847, 'cavier': 1848, 'extraordinary': 1849, 'thinly': 1850, 'wagyu': 1851, 'truffle': 1852, 'imaginative': 1853, 'reheated': 1854, 'wedges': 1855, 'airport': 1856, 'speedy': 1857, 'piano': 1858, 'soundtrack': 1859, 'fondue': 1860, 'college': 1861, 'cooking': 1862, 'class': 1863, 'mean': 1864, 'famous': 1865, \"caballero's\": 1866, 'ninja': 1867, 'wide': 1868, 'array': 1869, 'despite': 1870, 'rate': 1871, 'businesses': 1872, 'ribeye': 1873, 'mesquite': 1874, 'poisoning': 1875, 'pucks': 1876, 'disgust': 1877, 'register': 1878, 'based': 1879, 'effort': 1880, 'show': 1881, 'gratitude': 1882, 'flair': 1883, 'bartenders': 1884, 'sunday': 1885, 'patty': 1886, 'falling': 1887, 'apart': 1888, 'picture': 1889, 'uploaded': 1890, 'yeah': 1891, 'pleasure': 1892, 'similarly': 1893, 'delivery': 1894, 'man': 1895, 'apology': 1896, '45': 1897, 'consider': 1898, 'theft': 1899, 'freezing': 1900, 'crawfish': 1901, 'reason': 1902, 'fill': 1903, 'binge': 1904, 'drinking': 1905, 'carbs': 1906, 'might': 1907, 'crema': 1908, 'café': 1909, 'expanded': 1910, 'eclectic': 1911, 'seasonal': 1912, 'fruit': 1913, 'peach': 1914, 'concept': 1915, 'noodles': 1916, 'accomodate': 1917, 'vegan': 1918, 'veggie': 1919, 'spicier': 1920, 'prefer': 1921, 'disgusted': 1922, 'trimmed': 1923, 'chow': 1924, 'mein': 1925, 'occasional': 1926, 'pats': 1927, 'asking': 1928, 'yellow': 1929, 'saffron': 1930, 'seasoning': 1931, 'sergeant': 1932, 'auju': 1933, 'plater': 1934, 'positive': 1935, 'provided': 1936, 'crepe': 1937, 'traditional': 1938, 'hunan': 1939, 'appalling': 1940, 'sun': 1941, 'problem': 1942, 'charge': 1943, '11': 1944, '99': 1945, 'bigger': 1946, 'outta': 1947, 'mediterranean': 1948, 'metro': 1949, 'typical': 1950, 'occasions': 1951, 'medium': 1952, 'bloodiest': 1953, 'fs': 1954, 'sound': 1955, 'actual': 1956, 'contained': 1957, 'disapppointment': 1958, 'witnessed': 1959, 'guests': 1960, 'hankering': 1961, 'brisket': 1962, 'consistent': 1963, 'ache': 1964, 'rest': 1965, 'particular': 1966, 'thus': 1967, 'visited': 1968, 'below': 1969, 'noca': 1970, 'summary': 1971, 'largely': 1972, 'seat': 1973, 'covers': 1974, 'replenished': 1975, 'plain': 1976, 'yucky': 1977, 'tater': 1978, 'southwest': 1979, 'goat': 1980, 'skimp': 1981, 'frustrated': 1982, 'figured': 1983, 'making': 1984, 'publicly': 1985, 'loudly': 1986, 'burned': 1987, 'saganaki': 1988, 'gyro': 1989, 'lettuce': 1990, 'accountant': 1991, 'screwed': 1992, 'suffers': 1993, 'sit': 1994, 'together': 1995, 'reviewer': 1996, \"don't'\": 1997, 'combo': 1998, 'ala': 1999, 'cart': 2000, 'across': 2001, 'officially': 2002, 'im': 2003, 'az': 2004, 'absolutley': 2005, 'past': 2006, 'fo': 2007, 'chefs': 2008, 'refused': 2009, 'anymore': 2010, 'fav': 2011, 'eyed': 2012, 'peas': 2013, 'unreal': 2014, 'tough': 2015, 'short': 2016, 'surprised': 2017, 'article': 2018, 'read': 2019, 'spices': 2020, 'serivce': 2021, 'exquisite': 2022, 'promptly': 2023, 'main': 2024, 'older': 2025, '30s': 2026, 'flavors': 2027, 'slaw': 2028, 'drenched': 2029, 'ians': 2030, 's': 2031, 'flavored': 2032, 'ri': 2033, 'calamari': 2034, 'likes': 2035, 'case': 2036, 'colder': 2037, 'diverse': 2038, 'buffets': 2039, 'relocated': 2040, 'unexperienced': 2041, 'employees': 2042, 'chickens': 2043, 'heads': 2044, 'pricey': 2045, 'disbelief': 2046, 'qualified': 2047, 'version': 2048, 'foods': 2049, 'mirage': 2050, 'finger': 2051, 'item': 2052, \"joey's\": 2053, 'voted': 2054, 'readers': 2055, 'magazine': 2056, 'luke': 2057, 'sever': 2058, 'lil': 2059, 'fuzzy': 2060, 'gem': 2061, 'onion': 2062, 'rings': 2063, 'months': 2064, 'returned': 2065, 'block': 2066, 'stood': 2067, 'begin': 2068, 'awkwardly': 2069, 'unwrapped': 2070, 'mile': 2071, 'brushfire': 2072}\n",
            "\n",
            " text disesuaikan dengan index\n",
            "[[2, 1, 3, 1, 29, 44, 17, 2, 1, 5, 20, 125]]\n",
            "\n",
            " disamakan pangjangnya dengan model\n",
            "[[  0   0   0   0   0   0   0   0   0   0   0   0   0   0   0   0   0   0\n",
            "    0   2   1   3   1  29  44  17   2   1   5  20 125]]\n",
            "\n",
            " hasil prediction\n",
            "[0.98927647]\n",
            "[1.]\n",
            "\n",
            " sesuaikan dengan label\n",
            "1\n",
            "The chips and salsa were really good, the salsa was very fresh.\n"
          ]
        }
      ]
    },
    {
      "cell_type": "code",
      "source": [
        "6. Save model"
      ],
      "metadata": {
        "id": "dD8lc1he4vt_"
      },
      "execution_count": null,
      "outputs": []
    },
    {
      "cell_type": "code",
      "source": [
        "import joblib\n",
        "\n",
        "joblib.dump(model,\"/tmp/modelRestaurantReview.pkl\")"
      ],
      "metadata": {
        "colab": {
          "base_uri": "https://localhost:8080/"
        },
        "id": "q6hbAYyl4y8E",
        "outputId": "786797a4-8c72-4188-ea40-d7b8e9f558ac"
      },
      "execution_count": 15,
      "outputs": [
        {
          "output_type": "stream",
          "name": "stdout",
          "text": [
            "INFO:tensorflow:Assets written to: ram://db02d946-b1e9-476f-9ca1-a385c225cf0e/assets\n"
          ]
        },
        {
          "output_type": "execute_result",
          "data": {
            "text/plain": [
              "['/tmp/modelRestaurantReview.pkl']"
            ]
          },
          "metadata": {},
          "execution_count": 15
        }
      ]
    }
  ]
}